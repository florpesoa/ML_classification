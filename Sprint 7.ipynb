{
 "cells": [
  {
   "cell_type": "markdown",
   "id": "e04006af",
   "metadata": {},
   "source": [
    "# SPRINT 7 - Algoritmes d’aprenentatge supervisat: Classificació\n",
    "\n",
    "\n",
    "\n",
    "-Objectius específics:\n",
    "\n",
    "Conocer variables y técnicas de Clasificación (Árboles de clasificación, K – Nearest Neightbours, Regresión Logística, Support Vector Machine, XGBoost).\n",
    "Evaluar modelos de clasificación. "
   ]
  },
  {
   "cell_type": "markdown",
   "id": "3500b5ed",
   "metadata": {},
   "source": [
    "## Exercici 1"
   ]
  },
  {
   "cell_type": "markdown",
   "id": "ca1eb6e8",
   "metadata": {},
   "source": [
    "### Crea por lo menos dos modelos de clasificación diferentes para intentar predecir lo mejor las clases del archivo adjunto."
   ]
  },
  {
   "cell_type": "code",
   "execution_count": 3,
   "id": "6e3817b1",
   "metadata": {},
   "outputs": [
    {
     "data": {
      "text/html": [
       "<div>\n",
       "<style scoped>\n",
       "    .dataframe tbody tr th:only-of-type {\n",
       "        vertical-align: middle;\n",
       "    }\n",
       "\n",
       "    .dataframe tbody tr th {\n",
       "        vertical-align: top;\n",
       "    }\n",
       "\n",
       "    .dataframe thead th {\n",
       "        text-align: right;\n",
       "    }\n",
       "</style>\n",
       "<table border=\"1\" class=\"dataframe\">\n",
       "  <thead>\n",
       "    <tr style=\"text-align: right;\">\n",
       "      <th></th>\n",
       "      <th>Types of wine</th>\n",
       "      <th>Alcohol</th>\n",
       "      <th>Malic acid</th>\n",
       "      <th>Ash</th>\n",
       "      <th>Alcalinity of ash</th>\n",
       "      <th>Magnesium</th>\n",
       "      <th>Total phenols</th>\n",
       "      <th>Flavanoids</th>\n",
       "      <th>Nonflavanoid phenols</th>\n",
       "      <th>Proanthocyanins</th>\n",
       "      <th>Color intensity</th>\n",
       "      <th>Hue</th>\n",
       "      <th>OD280/OD315 of diluted wines</th>\n",
       "      <th>Proline</th>\n",
       "    </tr>\n",
       "  </thead>\n",
       "  <tbody>\n",
       "    <tr>\n",
       "      <th>0</th>\n",
       "      <td>1</td>\n",
       "      <td>14.23</td>\n",
       "      <td>1.71</td>\n",
       "      <td>2.43</td>\n",
       "      <td>15.6</td>\n",
       "      <td>127</td>\n",
       "      <td>2.80</td>\n",
       "      <td>3.06</td>\n",
       "      <td>0.28</td>\n",
       "      <td>2.29</td>\n",
       "      <td>5.64</td>\n",
       "      <td>1.04</td>\n",
       "      <td>3.92</td>\n",
       "      <td>1065</td>\n",
       "    </tr>\n",
       "    <tr>\n",
       "      <th>1</th>\n",
       "      <td>1</td>\n",
       "      <td>13.20</td>\n",
       "      <td>1.78</td>\n",
       "      <td>2.14</td>\n",
       "      <td>11.2</td>\n",
       "      <td>100</td>\n",
       "      <td>2.65</td>\n",
       "      <td>2.76</td>\n",
       "      <td>0.26</td>\n",
       "      <td>1.28</td>\n",
       "      <td>4.38</td>\n",
       "      <td>1.05</td>\n",
       "      <td>3.40</td>\n",
       "      <td>1050</td>\n",
       "    </tr>\n",
       "    <tr>\n",
       "      <th>2</th>\n",
       "      <td>1</td>\n",
       "      <td>13.16</td>\n",
       "      <td>2.36</td>\n",
       "      <td>2.67</td>\n",
       "      <td>18.6</td>\n",
       "      <td>101</td>\n",
       "      <td>2.80</td>\n",
       "      <td>3.24</td>\n",
       "      <td>0.30</td>\n",
       "      <td>2.81</td>\n",
       "      <td>5.68</td>\n",
       "      <td>1.03</td>\n",
       "      <td>3.17</td>\n",
       "      <td>1185</td>\n",
       "    </tr>\n",
       "    <tr>\n",
       "      <th>3</th>\n",
       "      <td>1</td>\n",
       "      <td>14.37</td>\n",
       "      <td>1.95</td>\n",
       "      <td>2.50</td>\n",
       "      <td>16.8</td>\n",
       "      <td>113</td>\n",
       "      <td>3.85</td>\n",
       "      <td>3.49</td>\n",
       "      <td>0.24</td>\n",
       "      <td>2.18</td>\n",
       "      <td>7.80</td>\n",
       "      <td>0.86</td>\n",
       "      <td>3.45</td>\n",
       "      <td>1480</td>\n",
       "    </tr>\n",
       "    <tr>\n",
       "      <th>4</th>\n",
       "      <td>1</td>\n",
       "      <td>13.24</td>\n",
       "      <td>2.59</td>\n",
       "      <td>2.87</td>\n",
       "      <td>21.0</td>\n",
       "      <td>118</td>\n",
       "      <td>2.80</td>\n",
       "      <td>2.69</td>\n",
       "      <td>0.39</td>\n",
       "      <td>1.82</td>\n",
       "      <td>4.32</td>\n",
       "      <td>1.04</td>\n",
       "      <td>2.93</td>\n",
       "      <td>735</td>\n",
       "    </tr>\n",
       "    <tr>\n",
       "      <th>...</th>\n",
       "      <td>...</td>\n",
       "      <td>...</td>\n",
       "      <td>...</td>\n",
       "      <td>...</td>\n",
       "      <td>...</td>\n",
       "      <td>...</td>\n",
       "      <td>...</td>\n",
       "      <td>...</td>\n",
       "      <td>...</td>\n",
       "      <td>...</td>\n",
       "      <td>...</td>\n",
       "      <td>...</td>\n",
       "      <td>...</td>\n",
       "      <td>...</td>\n",
       "    </tr>\n",
       "    <tr>\n",
       "      <th>173</th>\n",
       "      <td>3</td>\n",
       "      <td>13.71</td>\n",
       "      <td>5.65</td>\n",
       "      <td>2.45</td>\n",
       "      <td>20.5</td>\n",
       "      <td>95</td>\n",
       "      <td>1.68</td>\n",
       "      <td>0.61</td>\n",
       "      <td>0.52</td>\n",
       "      <td>1.06</td>\n",
       "      <td>7.70</td>\n",
       "      <td>0.64</td>\n",
       "      <td>1.74</td>\n",
       "      <td>740</td>\n",
       "    </tr>\n",
       "    <tr>\n",
       "      <th>174</th>\n",
       "      <td>3</td>\n",
       "      <td>13.40</td>\n",
       "      <td>3.91</td>\n",
       "      <td>2.48</td>\n",
       "      <td>23.0</td>\n",
       "      <td>102</td>\n",
       "      <td>1.80</td>\n",
       "      <td>0.75</td>\n",
       "      <td>0.43</td>\n",
       "      <td>1.41</td>\n",
       "      <td>7.30</td>\n",
       "      <td>0.70</td>\n",
       "      <td>1.56</td>\n",
       "      <td>750</td>\n",
       "    </tr>\n",
       "    <tr>\n",
       "      <th>175</th>\n",
       "      <td>3</td>\n",
       "      <td>13.27</td>\n",
       "      <td>4.28</td>\n",
       "      <td>2.26</td>\n",
       "      <td>20.0</td>\n",
       "      <td>120</td>\n",
       "      <td>1.59</td>\n",
       "      <td>0.69</td>\n",
       "      <td>0.43</td>\n",
       "      <td>1.35</td>\n",
       "      <td>10.20</td>\n",
       "      <td>0.59</td>\n",
       "      <td>1.56</td>\n",
       "      <td>835</td>\n",
       "    </tr>\n",
       "    <tr>\n",
       "      <th>176</th>\n",
       "      <td>3</td>\n",
       "      <td>13.17</td>\n",
       "      <td>2.59</td>\n",
       "      <td>2.37</td>\n",
       "      <td>20.0</td>\n",
       "      <td>120</td>\n",
       "      <td>1.65</td>\n",
       "      <td>0.68</td>\n",
       "      <td>0.53</td>\n",
       "      <td>1.46</td>\n",
       "      <td>9.30</td>\n",
       "      <td>0.60</td>\n",
       "      <td>1.62</td>\n",
       "      <td>840</td>\n",
       "    </tr>\n",
       "    <tr>\n",
       "      <th>177</th>\n",
       "      <td>3</td>\n",
       "      <td>14.13</td>\n",
       "      <td>4.10</td>\n",
       "      <td>2.74</td>\n",
       "      <td>24.5</td>\n",
       "      <td>96</td>\n",
       "      <td>2.05</td>\n",
       "      <td>0.76</td>\n",
       "      <td>0.56</td>\n",
       "      <td>1.35</td>\n",
       "      <td>9.20</td>\n",
       "      <td>0.61</td>\n",
       "      <td>1.60</td>\n",
       "      <td>560</td>\n",
       "    </tr>\n",
       "  </tbody>\n",
       "</table>\n",
       "<p>178 rows × 14 columns</p>\n",
       "</div>"
      ],
      "text/plain": [
       "     Types of wine  Alcohol  Malic acid   Ash  Alcalinity of ash  Magnesium  \\\n",
       "0                1    14.23        1.71  2.43               15.6        127   \n",
       "1                1    13.20        1.78  2.14               11.2        100   \n",
       "2                1    13.16        2.36  2.67               18.6        101   \n",
       "3                1    14.37        1.95  2.50               16.8        113   \n",
       "4                1    13.24        2.59  2.87               21.0        118   \n",
       "..             ...      ...         ...   ...                ...        ...   \n",
       "173              3    13.71        5.65  2.45               20.5         95   \n",
       "174              3    13.40        3.91  2.48               23.0        102   \n",
       "175              3    13.27        4.28  2.26               20.0        120   \n",
       "176              3    13.17        2.59  2.37               20.0        120   \n",
       "177              3    14.13        4.10  2.74               24.5         96   \n",
       "\n",
       "     Total phenols  Flavanoids  Nonflavanoid phenols  Proanthocyanins  \\\n",
       "0             2.80        3.06                  0.28             2.29   \n",
       "1             2.65        2.76                  0.26             1.28   \n",
       "2             2.80        3.24                  0.30             2.81   \n",
       "3             3.85        3.49                  0.24             2.18   \n",
       "4             2.80        2.69                  0.39             1.82   \n",
       "..             ...         ...                   ...              ...   \n",
       "173           1.68        0.61                  0.52             1.06   \n",
       "174           1.80        0.75                  0.43             1.41   \n",
       "175           1.59        0.69                  0.43             1.35   \n",
       "176           1.65        0.68                  0.53             1.46   \n",
       "177           2.05        0.76                  0.56             1.35   \n",
       "\n",
       "     Color intensity   Hue  OD280/OD315 of diluted wines  Proline  \n",
       "0               5.64  1.04                          3.92     1065  \n",
       "1               4.38  1.05                          3.40     1050  \n",
       "2               5.68  1.03                          3.17     1185  \n",
       "3               7.80  0.86                          3.45     1480  \n",
       "4               4.32  1.04                          2.93      735  \n",
       "..               ...   ...                           ...      ...  \n",
       "173             7.70  0.64                          1.74      740  \n",
       "174             7.30  0.70                          1.56      750  \n",
       "175            10.20  0.59                          1.56      835  \n",
       "176             9.30  0.60                          1.62      840  \n",
       "177             9.20  0.61                          1.60      560  \n",
       "\n",
       "[178 rows x 14 columns]"
      ]
     },
     "execution_count": 3,
     "metadata": {},
     "output_type": "execute_result"
    }
   ],
   "source": [
    "import pandas as pd \n",
    "import numpy as np\n",
    "import matplotlib.pyplot as plt\n",
    "import seaborn as sns\n",
    "from sklearn import preprocessing\n",
    "from sklearn.model_selection import train_test_split\n",
    "from scipy import stats\n",
    "\n",
    "columnas = ['Types of wine','Alcohol', 'Malic acid', 'Ash', 'Alcalinity of ash', 'Magnesium','Total phenols', 'Flavanoids',\n",
    "            'Nonflavanoid phenols', 'Proanthocyanins', 'Color intensity', 'Hue', \n",
    "            'OD280/OD315 of diluted wines','Proline'] \n",
    "df=pd.read_csv('wineData.txt', sep=',', encoding='latin-1', names=columnas)\n",
    "df"
   ]
  },
  {
   "cell_type": "markdown",
   "id": "f6b61501",
   "metadata": {},
   "source": [
    "**Valores de las columnas**\n",
    "\n",
    "Types of wine : Clase Categorica del Vino ( Clase - 1 / 2 / 3).\n",
    "\n",
    "Alcohol: Cantidad de Alcholol en ese tipo de vino.\n",
    "\n",
    "Malic acid: Cantidad de ácido málico en ese tipo de vino.\n",
    "\n",
    "Ash: Cantidad de Ceniza en ese tipo de vino.\n",
    "\n",
    "Alcalinity of ash: Cantidad de Alcalinidad de la ceniza en ese tipo de vino.\n",
    "\n",
    "Magnesium: Cantidad de Magnesio en ese tipo de vino.\n",
    "\n",
    "Total phenols: Cantidad de fenol en ese tipo de vino.\n",
    "\n",
    "Flavonoides: Cantidad de flavonoides en ese tipo de vino.\n",
    "\n",
    "Nonflavanoid phenols: Cantidad de fenoles no flavonoides en ese tipo de vino.\n",
    "\n",
    "Proantocianinas : Cantidad de Proantocianinas en ese tipo de vino.\n",
    "\n",
    "Color intensity: Cantidad de intensidad de color para ese tipo de vino.\n",
    "\n",
    "Hue: Cantidad de Matiz para ese tipo de vino.\n",
    "\n",
    "OD280/OD315 of diluted wines: Cantidad de diluido en ese tipo de vino.\n",
    "\n",
    "Proline : Cantidad de Prolina en ese tipo de vino."
   ]
  },
  {
   "cell_type": "code",
   "execution_count": 4,
   "id": "2d9edb6a",
   "metadata": {},
   "outputs": [
    {
     "data": {
      "text/plain": [
       "<AxesSubplot: xlabel='Types of wine', ylabel='count'>"
      ]
     },
     "execution_count": 4,
     "metadata": {},
     "output_type": "execute_result"
    },
    {
     "data": {
      "image/png": "[encoded data removed]",
      "text/plain": [
       "<Figure size 432x288 with 1 Axes>"
      ]
     },
     "metadata": {
      "needs_background": "light"
     },
     "output_type": "display_data"
    }
   ],
   "source": [
    "sns.countplot(data=df, x= 'Types of wine', palette='Greens')"
   ]
  },
  {
   "cell_type": "code",
   "execution_count": 5,
   "id": "50716e80",
   "metadata": {},
   "outputs": [
    {
     "name": "stdout",
     "output_type": "stream",
     "text": [
      "<class 'pandas.core.frame.DataFrame'>\n",
      "RangeIndex: 178 entries, 0 to 177\n",
      "Data columns (total 14 columns):\n",
      " #   Column                        Non-Null Count  Dtype  \n",
      "---  ------                        --------------  -----  \n",
      " 0   Types of wine                 178 non-null    int64  \n",
      " 1   Alcohol                       178 non-null    float64\n",
      " 2   Malic acid                    178 non-null    float64\n",
      " 3   Ash                           178 non-null    float64\n",
      " 4   Alcalinity of ash             178 non-null    float64\n",
      " 5   Magnesium                     178 non-null    int64  \n",
      " 6   Total phenols                 178 non-null    float64\n",
      " 7   Flavanoids                    178 non-null    float64\n",
      " 8   Nonflavanoid phenols          178 non-null    float64\n",
      " 9   Proanthocyanins               178 non-null    float64\n",
      " 10  Color intensity               178 non-null    float64\n",
      " 11  Hue                           178 non-null    float64\n",
      " 12  OD280/OD315 of diluted wines  178 non-null    float64\n",
      " 13  Proline                       178 non-null    int64  \n",
      "dtypes: float64(11), int64(3)\n",
      "memory usage: 19.6 KB\n"
     ]
    }
   ],
   "source": [
    "df.info()"
   ]
  },
  {
   "cell_type": "code",
   "execution_count": 6,
   "id": "7d3f57e4",
   "metadata": {},
   "outputs": [
    {
     "data": {
      "text/plain": [
       "Types of wine                     int64\n",
       "Alcohol                         float64\n",
       "Malic acid                      float64\n",
       "Ash                             float64\n",
       "Alcalinity of ash               float64\n",
       "Magnesium                         int64\n",
       "Total phenols                   float64\n",
       "Flavanoids                      float64\n",
       "Nonflavanoid phenols            float64\n",
       "Proanthocyanins                 float64\n",
       "Color intensity                 float64\n",
       "Hue                             float64\n",
       "OD280/OD315 of diluted wines    float64\n",
       "Proline                           int64\n",
       "dtype: object"
      ]
     },
     "execution_count": 6,
     "metadata": {},
     "output_type": "execute_result"
    }
   ],
   "source": [
    "df.dtypes"
   ]
  },
  {
   "cell_type": "code",
   "execution_count": 7,
   "id": "91fa0675",
   "metadata": {},
   "outputs": [
    {
     "data": {
      "text/html": [
       "<div>\n",
       "<style scoped>\n",
       "    .dataframe tbody tr th:only-of-type {\n",
       "        vertical-align: middle;\n",
       "    }\n",
       "\n",
       "    .dataframe tbody tr th {\n",
       "        vertical-align: top;\n",
       "    }\n",
       "\n",
       "    .dataframe thead th {\n",
       "        text-align: right;\n",
       "    }\n",
       "</style>\n",
       "<table border=\"1\" class=\"dataframe\">\n",
       "  <thead>\n",
       "    <tr style=\"text-align: right;\">\n",
       "      <th></th>\n",
       "      <th>Types of wine</th>\n",
       "      <th>Alcohol</th>\n",
       "      <th>Malic acid</th>\n",
       "      <th>Ash</th>\n",
       "      <th>Alcalinity of ash</th>\n",
       "      <th>Magnesium</th>\n",
       "      <th>Total phenols</th>\n",
       "      <th>Flavanoids</th>\n",
       "      <th>Nonflavanoid phenols</th>\n",
       "      <th>Proanthocyanins</th>\n",
       "      <th>Color intensity</th>\n",
       "      <th>Hue</th>\n",
       "      <th>OD280/OD315 of diluted wines</th>\n",
       "      <th>Proline</th>\n",
       "    </tr>\n",
       "  </thead>\n",
       "  <tbody>\n",
       "    <tr>\n",
       "      <th>count</th>\n",
       "      <td>178.000000</td>\n",
       "      <td>178.000000</td>\n",
       "      <td>178.000000</td>\n",
       "      <td>178.000000</td>\n",
       "      <td>178.000000</td>\n",
       "      <td>178.000000</td>\n",
       "      <td>178.000000</td>\n",
       "      <td>178.000000</td>\n",
       "      <td>178.000000</td>\n",
       "      <td>178.000000</td>\n",
       "      <td>178.000000</td>\n",
       "      <td>178.000000</td>\n",
       "      <td>178.000000</td>\n",
       "      <td>178.000000</td>\n",
       "    </tr>\n",
       "    <tr>\n",
       "      <th>mean</th>\n",
       "      <td>1.938202</td>\n",
       "      <td>13.000618</td>\n",
       "      <td>2.336348</td>\n",
       "      <td>2.366517</td>\n",
       "      <td>19.494944</td>\n",
       "      <td>99.741573</td>\n",
       "      <td>2.295112</td>\n",
       "      <td>2.029270</td>\n",
       "      <td>0.361854</td>\n",
       "      <td>1.590899</td>\n",
       "      <td>5.058090</td>\n",
       "      <td>0.957449</td>\n",
       "      <td>2.611685</td>\n",
       "      <td>746.893258</td>\n",
       "    </tr>\n",
       "    <tr>\n",
       "      <th>std</th>\n",
       "      <td>0.775035</td>\n",
       "      <td>0.811827</td>\n",
       "      <td>1.117146</td>\n",
       "      <td>0.274344</td>\n",
       "      <td>3.339564</td>\n",
       "      <td>14.282484</td>\n",
       "      <td>0.625851</td>\n",
       "      <td>0.998859</td>\n",
       "      <td>0.124453</td>\n",
       "      <td>0.572359</td>\n",
       "      <td>2.318286</td>\n",
       "      <td>0.228572</td>\n",
       "      <td>0.709990</td>\n",
       "      <td>314.907474</td>\n",
       "    </tr>\n",
       "    <tr>\n",
       "      <th>min</th>\n",
       "      <td>1.000000</td>\n",
       "      <td>11.030000</td>\n",
       "      <td>0.740000</td>\n",
       "      <td>1.360000</td>\n",
       "      <td>10.600000</td>\n",
       "      <td>70.000000</td>\n",
       "      <td>0.980000</td>\n",
       "      <td>0.340000</td>\n",
       "      <td>0.130000</td>\n",
       "      <td>0.410000</td>\n",
       "      <td>1.280000</td>\n",
       "      <td>0.480000</td>\n",
       "      <td>1.270000</td>\n",
       "      <td>278.000000</td>\n",
       "    </tr>\n",
       "    <tr>\n",
       "      <th>25%</th>\n",
       "      <td>1.000000</td>\n",
       "      <td>12.362500</td>\n",
       "      <td>1.602500</td>\n",
       "      <td>2.210000</td>\n",
       "      <td>17.200000</td>\n",
       "      <td>88.000000</td>\n",
       "      <td>1.742500</td>\n",
       "      <td>1.205000</td>\n",
       "      <td>0.270000</td>\n",
       "      <td>1.250000</td>\n",
       "      <td>3.220000</td>\n",
       "      <td>0.782500</td>\n",
       "      <td>1.937500</td>\n",
       "      <td>500.500000</td>\n",
       "    </tr>\n",
       "    <tr>\n",
       "      <th>50%</th>\n",
       "      <td>2.000000</td>\n",
       "      <td>13.050000</td>\n",
       "      <td>1.865000</td>\n",
       "      <td>2.360000</td>\n",
       "      <td>19.500000</td>\n",
       "      <td>98.000000</td>\n",
       "      <td>2.355000</td>\n",
       "      <td>2.135000</td>\n",
       "      <td>0.340000</td>\n",
       "      <td>1.555000</td>\n",
       "      <td>4.690000</td>\n",
       "      <td>0.965000</td>\n",
       "      <td>2.780000</td>\n",
       "      <td>673.500000</td>\n",
       "    </tr>\n",
       "    <tr>\n",
       "      <th>75%</th>\n",
       "      <td>3.000000</td>\n",
       "      <td>13.677500</td>\n",
       "      <td>3.082500</td>\n",
       "      <td>2.557500</td>\n",
       "      <td>21.500000</td>\n",
       "      <td>107.000000</td>\n",
       "      <td>2.800000</td>\n",
       "      <td>2.875000</td>\n",
       "      <td>0.437500</td>\n",
       "      <td>1.950000</td>\n",
       "      <td>6.200000</td>\n",
       "      <td>1.120000</td>\n",
       "      <td>3.170000</td>\n",
       "      <td>985.000000</td>\n",
       "    </tr>\n",
       "    <tr>\n",
       "      <th>max</th>\n",
       "      <td>3.000000</td>\n",
       "      <td>14.830000</td>\n",
       "      <td>5.800000</td>\n",
       "      <td>3.230000</td>\n",
       "      <td>30.000000</td>\n",
       "      <td>162.000000</td>\n",
       "      <td>3.880000</td>\n",
       "      <td>5.080000</td>\n",
       "      <td>0.660000</td>\n",
       "      <td>3.580000</td>\n",
       "      <td>13.000000</td>\n",
       "      <td>1.710000</td>\n",
       "      <td>4.000000</td>\n",
       "      <td>1680.000000</td>\n",
       "    </tr>\n",
       "  </tbody>\n",
       "</table>\n",
       "</div>"
      ],
      "text/plain": [
       "       Types of wine     Alcohol  Malic acid         Ash  Alcalinity of ash  \\\n",
       "count     178.000000  178.000000  178.000000  178.000000         178.000000   \n",
       "mean        1.938202   13.000618    2.336348    2.366517          19.494944   \n",
       "std         0.775035    0.811827    1.117146    0.274344           3.339564   \n",
       "min         1.000000   11.030000    0.740000    1.360000          10.600000   \n",
       "25%         1.000000   12.362500    1.602500    2.210000          17.200000   \n",
       "50%         2.000000   13.050000    1.865000    2.360000          19.500000   \n",
       "75%         3.000000   13.677500    3.082500    2.557500          21.500000   \n",
       "max         3.000000   14.830000    5.800000    3.230000          30.000000   \n",
       "\n",
       "        Magnesium  Total phenols  Flavanoids  Nonflavanoid phenols  \\\n",
       "count  178.000000     178.000000  178.000000            178.000000   \n",
       "mean    99.741573       2.295112    2.029270              0.361854   \n",
       "std     14.282484       0.625851    0.998859              0.124453   \n",
       "min     70.000000       0.980000    0.340000              0.130000   \n",
       "25%     88.000000       1.742500    1.205000              0.270000   \n",
       "50%     98.000000       2.355000    2.135000              0.340000   \n",
       "75%    107.000000       2.800000    2.875000              0.437500   \n",
       "max    162.000000       3.880000    5.080000              0.660000   \n",
       "\n",
       "       Proanthocyanins  Color intensity         Hue  \\\n",
       "count       178.000000       178.000000  178.000000   \n",
       "mean          1.590899         5.058090    0.957449   \n",
       "std           0.572359         2.318286    0.228572   \n",
       "min           0.410000         1.280000    0.480000   \n",
       "25%           1.250000         3.220000    0.782500   \n",
       "50%           1.555000         4.690000    0.965000   \n",
       "75%           1.950000         6.200000    1.120000   \n",
       "max           3.580000        13.000000    1.710000   \n",
       "\n",
       "       OD280/OD315 of diluted wines      Proline  \n",
       "count                    178.000000   178.000000  \n",
       "mean                       2.611685   746.893258  \n",
       "std                        0.709990   314.907474  \n",
       "min                        1.270000   278.000000  \n",
       "25%                        1.937500   500.500000  \n",
       "50%                        2.780000   673.500000  \n",
       "75%                        3.170000   985.000000  \n",
       "max                        4.000000  1680.000000  "
      ]
     },
     "execution_count": 7,
     "metadata": {},
     "output_type": "execute_result"
    }
   ],
   "source": [
    "df.describe()"
   ]
  },
  {
   "cell_type": "code",
   "execution_count": 8,
   "id": "ebbeb6f5",
   "metadata": {},
   "outputs": [
    {
     "data": {
      "text/plain": [
       "Types of wine                   0\n",
       "Alcohol                         0\n",
       "Malic acid                      0\n",
       "Ash                             0\n",
       "Alcalinity of ash               0\n",
       "Magnesium                       0\n",
       "Total phenols                   0\n",
       "Flavanoids                      0\n",
       "Nonflavanoid phenols            0\n",
       "Proanthocyanins                 0\n",
       "Color intensity                 0\n",
       "Hue                             0\n",
       "OD280/OD315 of diluted wines    0\n",
       "Proline                         0\n",
       "dtype: int64"
      ]
     },
     "execution_count": 8,
     "metadata": {},
     "output_type": "execute_result"
    }
   ],
   "source": [
    "df.isna().sum().sort_values(ascending = False)"
   ]
  },
  {
   "cell_type": "code",
   "execution_count": 9,
   "id": "931aeeda",
   "metadata": {},
   "outputs": [
    {
     "data": {
      "text/plain": [
       "Types of wine                   0\n",
       "Alcohol                         0\n",
       "Malic acid                      0\n",
       "Ash                             0\n",
       "Alcalinity of ash               0\n",
       "Magnesium                       0\n",
       "Total phenols                   0\n",
       "Flavanoids                      0\n",
       "Nonflavanoid phenols            0\n",
       "Proanthocyanins                 0\n",
       "Color intensity                 0\n",
       "Hue                             0\n",
       "OD280/OD315 of diluted wines    0\n",
       "Proline                         0\n",
       "dtype: int64"
      ]
     },
     "execution_count": 9,
     "metadata": {},
     "output_type": "execute_result"
    }
   ],
   "source": [
    "df.isnull().sum().sort_values(ascending = False)"
   ]
  },
  {
   "cell_type": "markdown",
   "id": "e1918210",
   "metadata": {},
   "source": [
    "Analizaremos cuales de las columnas a estudiar son gaussianas y cuales no, para saber luego como estudiarlas:"
   ]
  },
  {
   "cell_type": "code",
   "execution_count": 11,
   "id": "0f3bc16c",
   "metadata": {},
   "outputs": [
    {
     "name": "stdout",
     "output_type": "stream",
     "text": [
      "La columna Types of wine no es gaussiana (p = 0.000)\n",
      "La columna Alcohol no es gaussiana (p = 0.000)\n",
      "La columna Malic acid no es gaussiana (p = 0.000)\n",
      "La columna Ash no es gaussiana (p = 0.036)\n",
      "La columna Alcalinity of ash es gaussiana (p = 0.210)\n",
      "La columna Magnesium no es gaussiana (p = 0.000)\n",
      "La columna Total phenols no es gaussiana (p = 0.001)\n",
      "La columna Flavanoids no es gaussiana (p = 0.000)\n",
      "La columna Nonflavanoid phenols no es gaussiana (p = 0.003)\n",
      "La columna Proanthocyanins no es gaussiana (p = 0.008)\n",
      "La columna Color intensity no es gaussiana (p = 0.000)\n",
      "La columna Hue es gaussiana (p = 0.595)\n",
      "La columna OD280/OD315 of diluted wines no es gaussiana (p = 0.000)\n",
      "La columna Proline no es gaussiana (p = 0.000)\n"
     ]
    }
   ],
   "source": [
    "import scipy.stats as stats\n",
    "\n",
    "threshold = 0.05\n",
    "\n",
    "for column in df.columns:\n",
    "    k2, p = stats.normaltest(df[column])\n",
    "    if p < threshold:\n",
    "        print(f\"La columna {column} no es gaussiana (p = {p:.3f})\")\n",
    "    else:\n",
    "        print(f\"La columna {column} es gaussiana (p = {p:.3f})\")"
   ]
  },
  {
   "cell_type": "markdown",
   "id": "8bb4e8a5",
   "metadata": {},
   "source": [
    "Las únicas columnas gaussianas son la alcalinidad de la matriz y la Hue (matriz), sin embargo al graficar si tienen outliers:"
   ]
  },
  {
   "cell_type": "code",
   "execution_count": 12,
   "id": "34ba95ab",
   "metadata": {},
   "outputs": [
    {
     "data": {
      "image/png": "[encoded data removed]",
      "text/plain": [
       "<Figure size 432x288 with 1 Axes>"
      ]
     },
     "metadata": {
      "needs_background": "light"
     },
     "output_type": "display_data"
    },
    {
     "data": {
      "image/png": "[encoded data removed]",
      "text/plain": [
       "<Figure size 432x288 with 1 Axes>"
      ]
     },
     "metadata": {
      "needs_background": "light"
     },
     "output_type": "display_data"
    },
    {
     "data": {
      "image/png": "[encoded data removed]",
      "text/plain": [
       "<Figure size 432x288 with 1 Axes>"
      ]
     },
     "metadata": {
      "needs_background": "light"
     },
     "output_type": "display_data"
    },
    {
     "data": {
      "image/png": "[encoded data removed]",
      "text/plain": [
       "<Figure size 432x288 with 1 Axes>"
      ]
     },
     "metadata": {
      "needs_background": "light"
     },
     "output_type": "display_data"
    },
    {
     "data": {
      "image/png": "[encoded data removed]",
      "text/plain": [
       "<Figure size 432x288 with 1 Axes>"
      ]
     },
     "metadata": {
      "needs_background": "light"
     },
     "output_type": "display_data"
    },
    {
     "data": {
      "image/png": "[encoded data removed]",
      "text/plain": [
       "<Figure size 432x288 with 1 Axes>"
      ]
     },
     "metadata": {
      "needs_background": "light"
     },
     "output_type": "display_data"
    },
    {
     "data": {
      "image/png": "[encoded data removed]",
      "text/plain": [
       "<Figure size 432x288 with 1 Axes>"
      ]
     },
     "metadata": {
      "needs_background": "light"
     },
     "output_type": "display_data"
    },
    {
     "data": {
      "image/png": "[encoded data removed]",
      "text/plain": [
       "<Figure size 432x288 with 1 Axes>"
      ]
     },
     "metadata": {
      "needs_background": "light"
     },
     "output_type": "display_data"
    },
    {
     "data": {
      "image/png": "[encoded data removed]",
      "text/plain": [
       "<Figure size 432x288 with 1 Axes>"
      ]
     },
     "metadata": {
      "needs_background": "light"
     },
     "output_type": "display_data"
    },
    {
     "data": {
      "image/png": "[encoded data removed]",
      "text/plain": [
       "<Figure size 432x288 with 1 Axes>"
      ]
     },
     "metadata": {
      "needs_background": "light"
     },
     "output_type": "display_data"
    },
    {
     "data": {
      "image/png": "[encoded data removed]",
      "text/plain": [
       "<Figure size 432x288 with 1 Axes>"
      ]
     },
     "metadata": {
      "needs_background": "light"
     },
     "output_type": "display_data"
    },
    {
     "data": {
      "image/png": "[encoded data removed]",
      "text/plain": [
       "<Figure size 432x288 with 1 Axes>"
      ]
     },
     "metadata": {
      "needs_background": "light"
     },
     "output_type": "display_data"
    },
    {
     "data": {
      "image/png": "[encoded data removed]",
      "text/plain": [
       "<Figure size 432x288 with 1 Axes>"
      ]
     },
     "metadata": {
      "needs_background": "light"
     },
     "output_type": "display_data"
    },
    {
     "data": {
      "image/png": "[encoded data removed]",
      "text/plain": [
       "<Figure size 432x288 with 1 Axes>"
      ]
     },
     "metadata": {
      "needs_background": "light"
     },
     "output_type": "display_data"
    }
   ],
   "source": [
    "for column in df.columns:\n",
    "    plt.figure()\n",
    "    df[column].plot.box()\n",
    "    plt.title(column)\n",
    "    plt.show()"
   ]
  },
  {
   "cell_type": "markdown",
   "id": "beb03692",
   "metadata": {},
   "source": [
    "Podemos observar como las variables: **malic acid, ash, magnesium, proanthocyanins, color intensity y Hue** presentan outliers, por lo que esto nos determinará que usaremos **Robust Scaler** para su preprocesamiento. Sin embargo, al tener dudas sobre las variables 'Alcalinity of ash' y 'Hue', la cuales anteriormente dan como gaussianas, pero luego vemos que tienen outliers, realizamos un shapiro, para reforzar su clasificación:"
   ]
  },
  {
   "cell_type": "code",
   "execution_count": 13,
   "id": "bd9fb5f7",
   "metadata": {},
   "outputs": [
    {
     "name": "stdout",
     "output_type": "stream",
     "text": [
      "Hipotesis nula (Ho): La muestra tiene una distribución normal (Probablemente Gaussiana).\n",
      "Hipotesis alternativa (H1): La muestra no tiene una distribución normal (Probablemente no Gaussiana).\n",
      "\n",
      "La variable Types of wine tiene un p-value=  3.526998097335039e-14\n",
      "Se rechaza la hipotesis nula, la muestra no tiene una distribución normal (Probablemente no Gaussiana).\n",
      "\n",
      "La variable Alcohol tiene un p-value=  0.020050711929798126\n",
      "Se rechaza la hipotesis nula, la muestra no tiene una distribución normal (Probablemente no Gaussiana).\n",
      "\n",
      "La variable Malic acid tiene un p-value=  2.94582247484243e-10\n",
      "Se rechaza la hipotesis nula, la muestra no tiene una distribución normal (Probablemente no Gaussiana).\n",
      "\n",
      "La variable Ash tiene un p-value=  0.038691021502017975\n",
      "Se rechaza la hipotesis nula, la muestra no tiene una distribución normal (Probablemente no Gaussiana).\n",
      "\n",
      "La variable Alcalinity of ash tiene un p-value=  0.26394858956336975\n",
      "Se acepta la hipotesis nula, la muestra tiene una distribución normal (Probablemente Gaussiana).\n",
      "\n",
      "La variable Magnesium tiene un p-value=  6.345416068143095e-07\n",
      "Se rechaza la hipotesis nula, la muestra no tiene una distribución normal (Probablemente no Gaussiana).\n",
      "\n",
      "La variable Total phenols tiene un p-value=  0.0043947165831923485\n",
      "Se rechaza la hipotesis nula, la muestra no tiene una distribución normal (Probablemente no Gaussiana).\n",
      "\n",
      "La variable Flavanoids tiene un p-value=  1.6790636436780915e-05\n",
      "Se rechaza la hipotesis nula, la muestra no tiene una distribución normal (Probablemente no Gaussiana).\n",
      "\n",
      "La variable Nonflavanoid phenols tiene un p-value=  0.00010552681487752125\n",
      "Se rechaza la hipotesis nula, la muestra no tiene una distribución normal (Probablemente no Gaussiana).\n",
      "\n",
      "La variable Proanthocyanins tiene un p-value=  0.01445252075791359\n",
      "Se rechaza la hipotesis nula, la muestra no tiene una distribución normal (Probablemente no Gaussiana).\n",
      "\n",
      "La variable Color intensity tiene un p-value=  9.230111004399078e-07\n",
      "Se rechaza la hipotesis nula, la muestra no tiene una distribución normal (Probablemente no Gaussiana).\n",
      "\n",
      "La variable Hue tiene un p-value=  0.01742566004395485\n",
      "Se rechaza la hipotesis nula, la muestra no tiene una distribución normal (Probablemente no Gaussiana).\n",
      "\n",
      "La variable OD280/OD315 of diluted wines tiene un p-value=  2.315865231139469e-06\n",
      "Se rechaza la hipotesis nula, la muestra no tiene una distribución normal (Probablemente no Gaussiana).\n",
      "\n",
      "La variable Proline tiene un p-value=  1.7412214958767436e-07\n",
      "Se rechaza la hipotesis nula, la muestra no tiene una distribución normal (Probablemente no Gaussiana).\n",
      "\n"
     ]
    }
   ],
   "source": [
    "\n",
    "print('Hipotesis nula (Ho): La muestra tiene una distribución normal (Probablemente Gaussiana).')\n",
    "print('Hipotesis alternativa (H1): La muestra no tiene una distribución normal (Probablemente no Gaussiana).\\n')\n",
    "\n",
    "for i in df.columns:\n",
    "    shapiro_test = stats.shapiro(df[i])\n",
    "    print('La variable', i, 'tiene un p-value= ', shapiro_test.pvalue)\n",
    "    if shapiro_test.pvalue>0.05:\n",
    "        print('Se acepta la hipotesis nula, la muestra tiene una distribución normal (Probablemente Gaussiana).\\n')\n",
    "    else:\n",
    "        print('Se rechaza la hipotesis nula, la muestra no tiene una distribución normal (Probablemente no Gaussiana).\\n')"
   ]
  },
  {
   "cell_type": "markdown",
   "id": "d3b40913",
   "metadata": {},
   "source": [
    "Ahora, definimos que la variable Hue se preprocesará a través de Robust Scaler."
   ]
  },
  {
   "cell_type": "markdown",
   "id": "ebbea7e5",
   "metadata": {},
   "source": [
    "En conclusión para preprocesar los datos utilizaremos:\n",
    "- **Robust Scaler:** 'Malic acid', 'Ash', 'Magnesium', 'Proanthocyanins', 'Color Intensity' y 'Hue'\n",
    "- **Max Min Scaler:** 'Alcohol', 'Total phenols', 'Flavanoids', 'Non-flavanoids', 'OD280/OD315' y 'Proline'\n",
    "- **Estandarización:** Únicamente para la variable 'Alcalinity of Ash'"
   ]
  },
  {
   "cell_type": "markdown",
   "id": "b740f76e",
   "metadata": {},
   "source": [
    "Realizamos una copia antes de comenzar a realizar el preprocesamiento"
   ]
  },
  {
   "cell_type": "code",
   "execution_count": 14,
   "id": "808c4c46",
   "metadata": {},
   "outputs": [],
   "source": [
    "df1 = df.copy()"
   ]
  },
  {
   "cell_type": "markdown",
   "id": "e46e3891",
   "metadata": {},
   "source": [
    "**Aplicamos Robust Scaler para las variables con outliers**"
   ]
  },
  {
   "cell_type": "code",
   "execution_count": 15,
   "id": "7c7d9f0e",
   "metadata": {},
   "outputs": [
    {
     "data": {
      "text/html": [
       "<div>\n",
       "<style scoped>\n",
       "    .dataframe tbody tr th:only-of-type {\n",
       "        vertical-align: middle;\n",
       "    }\n",
       "\n",
       "    .dataframe tbody tr th {\n",
       "        vertical-align: top;\n",
       "    }\n",
       "\n",
       "    .dataframe thead th {\n",
       "        text-align: right;\n",
       "    }\n",
       "</style>\n",
       "<table border=\"1\" class=\"dataframe\">\n",
       "  <thead>\n",
       "    <tr style=\"text-align: right;\">\n",
       "      <th></th>\n",
       "      <th>Types of wine</th>\n",
       "      <th>Alcohol</th>\n",
       "      <th>Malic acid</th>\n",
       "      <th>Ash</th>\n",
       "      <th>Alcalinity of ash</th>\n",
       "      <th>Magnesium</th>\n",
       "      <th>Total phenols</th>\n",
       "      <th>Flavanoids</th>\n",
       "      <th>Nonflavanoid phenols</th>\n",
       "      <th>Proanthocyanins</th>\n",
       "      <th>Color intensity</th>\n",
       "      <th>Hue</th>\n",
       "      <th>OD280/OD315 of diluted wines</th>\n",
       "      <th>Proline</th>\n",
       "    </tr>\n",
       "  </thead>\n",
       "  <tbody>\n",
       "    <tr>\n",
       "      <th>0</th>\n",
       "      <td>1</td>\n",
       "      <td>14.23</td>\n",
       "      <td>-0.104730</td>\n",
       "      <td>0.201439</td>\n",
       "      <td>15.6</td>\n",
       "      <td>1.526316</td>\n",
       "      <td>2.80</td>\n",
       "      <td>3.06</td>\n",
       "      <td>0.28</td>\n",
       "      <td>1.050000</td>\n",
       "      <td>0.318792</td>\n",
       "      <td>0.222222</td>\n",
       "      <td>3.92</td>\n",
       "      <td>1065</td>\n",
       "    </tr>\n",
       "    <tr>\n",
       "      <th>1</th>\n",
       "      <td>1</td>\n",
       "      <td>13.20</td>\n",
       "      <td>-0.057432</td>\n",
       "      <td>-0.633094</td>\n",
       "      <td>11.2</td>\n",
       "      <td>0.105263</td>\n",
       "      <td>2.65</td>\n",
       "      <td>2.76</td>\n",
       "      <td>0.26</td>\n",
       "      <td>-0.392857</td>\n",
       "      <td>-0.104027</td>\n",
       "      <td>0.251852</td>\n",
       "      <td>3.40</td>\n",
       "      <td>1050</td>\n",
       "    </tr>\n",
       "    <tr>\n",
       "      <th>2</th>\n",
       "      <td>1</td>\n",
       "      <td>13.16</td>\n",
       "      <td>0.334459</td>\n",
       "      <td>0.892086</td>\n",
       "      <td>18.6</td>\n",
       "      <td>0.157895</td>\n",
       "      <td>2.80</td>\n",
       "      <td>3.24</td>\n",
       "      <td>0.30</td>\n",
       "      <td>1.792857</td>\n",
       "      <td>0.332215</td>\n",
       "      <td>0.192593</td>\n",
       "      <td>3.17</td>\n",
       "      <td>1185</td>\n",
       "    </tr>\n",
       "    <tr>\n",
       "      <th>3</th>\n",
       "      <td>1</td>\n",
       "      <td>14.37</td>\n",
       "      <td>0.057432</td>\n",
       "      <td>0.402878</td>\n",
       "      <td>16.8</td>\n",
       "      <td>0.789474</td>\n",
       "      <td>3.85</td>\n",
       "      <td>3.49</td>\n",
       "      <td>0.24</td>\n",
       "      <td>0.892857</td>\n",
       "      <td>1.043624</td>\n",
       "      <td>-0.311111</td>\n",
       "      <td>3.45</td>\n",
       "      <td>1480</td>\n",
       "    </tr>\n",
       "    <tr>\n",
       "      <th>4</th>\n",
       "      <td>1</td>\n",
       "      <td>13.24</td>\n",
       "      <td>0.489865</td>\n",
       "      <td>1.467626</td>\n",
       "      <td>21.0</td>\n",
       "      <td>1.052632</td>\n",
       "      <td>2.80</td>\n",
       "      <td>2.69</td>\n",
       "      <td>0.39</td>\n",
       "      <td>0.378571</td>\n",
       "      <td>-0.124161</td>\n",
       "      <td>0.222222</td>\n",
       "      <td>2.93</td>\n",
       "      <td>735</td>\n",
       "    </tr>\n",
       "    <tr>\n",
       "      <th>...</th>\n",
       "      <td>...</td>\n",
       "      <td>...</td>\n",
       "      <td>...</td>\n",
       "      <td>...</td>\n",
       "      <td>...</td>\n",
       "      <td>...</td>\n",
       "      <td>...</td>\n",
       "      <td>...</td>\n",
       "      <td>...</td>\n",
       "      <td>...</td>\n",
       "      <td>...</td>\n",
       "      <td>...</td>\n",
       "      <td>...</td>\n",
       "      <td>...</td>\n",
       "    </tr>\n",
       "    <tr>\n",
       "      <th>173</th>\n",
       "      <td>3</td>\n",
       "      <td>13.71</td>\n",
       "      <td>2.557432</td>\n",
       "      <td>0.258993</td>\n",
       "      <td>20.5</td>\n",
       "      <td>-0.157895</td>\n",
       "      <td>1.68</td>\n",
       "      <td>0.61</td>\n",
       "      <td>0.52</td>\n",
       "      <td>-0.707143</td>\n",
       "      <td>1.010067</td>\n",
       "      <td>-0.962963</td>\n",
       "      <td>1.74</td>\n",
       "      <td>740</td>\n",
       "    </tr>\n",
       "    <tr>\n",
       "      <th>174</th>\n",
       "      <td>3</td>\n",
       "      <td>13.40</td>\n",
       "      <td>1.381757</td>\n",
       "      <td>0.345324</td>\n",
       "      <td>23.0</td>\n",
       "      <td>0.210526</td>\n",
       "      <td>1.80</td>\n",
       "      <td>0.75</td>\n",
       "      <td>0.43</td>\n",
       "      <td>-0.207143</td>\n",
       "      <td>0.875839</td>\n",
       "      <td>-0.785185</td>\n",
       "      <td>1.56</td>\n",
       "      <td>750</td>\n",
       "    </tr>\n",
       "    <tr>\n",
       "      <th>175</th>\n",
       "      <td>3</td>\n",
       "      <td>13.27</td>\n",
       "      <td>1.631757</td>\n",
       "      <td>-0.287770</td>\n",
       "      <td>20.0</td>\n",
       "      <td>1.157895</td>\n",
       "      <td>1.59</td>\n",
       "      <td>0.69</td>\n",
       "      <td>0.43</td>\n",
       "      <td>-0.292857</td>\n",
       "      <td>1.848993</td>\n",
       "      <td>-1.111111</td>\n",
       "      <td>1.56</td>\n",
       "      <td>835</td>\n",
       "    </tr>\n",
       "    <tr>\n",
       "      <th>176</th>\n",
       "      <td>3</td>\n",
       "      <td>13.17</td>\n",
       "      <td>0.489865</td>\n",
       "      <td>0.028777</td>\n",
       "      <td>20.0</td>\n",
       "      <td>1.157895</td>\n",
       "      <td>1.65</td>\n",
       "      <td>0.68</td>\n",
       "      <td>0.53</td>\n",
       "      <td>-0.135714</td>\n",
       "      <td>1.546980</td>\n",
       "      <td>-1.081481</td>\n",
       "      <td>1.62</td>\n",
       "      <td>840</td>\n",
       "    </tr>\n",
       "    <tr>\n",
       "      <th>177</th>\n",
       "      <td>3</td>\n",
       "      <td>14.13</td>\n",
       "      <td>1.510135</td>\n",
       "      <td>1.093525</td>\n",
       "      <td>24.5</td>\n",
       "      <td>-0.105263</td>\n",
       "      <td>2.05</td>\n",
       "      <td>0.76</td>\n",
       "      <td>0.56</td>\n",
       "      <td>-0.292857</td>\n",
       "      <td>1.513423</td>\n",
       "      <td>-1.051852</td>\n",
       "      <td>1.60</td>\n",
       "      <td>560</td>\n",
       "    </tr>\n",
       "  </tbody>\n",
       "</table>\n",
       "<p>178 rows × 14 columns</p>\n",
       "</div>"
      ],
      "text/plain": [
       "     Types of wine  Alcohol  Malic acid       Ash  Alcalinity of ash  \\\n",
       "0                1    14.23   -0.104730  0.201439               15.6   \n",
       "1                1    13.20   -0.057432 -0.633094               11.2   \n",
       "2                1    13.16    0.334459  0.892086               18.6   \n",
       "3                1    14.37    0.057432  0.402878               16.8   \n",
       "4                1    13.24    0.489865  1.467626               21.0   \n",
       "..             ...      ...         ...       ...                ...   \n",
       "173              3    13.71    2.557432  0.258993               20.5   \n",
       "174              3    13.40    1.381757  0.345324               23.0   \n",
       "175              3    13.27    1.631757 -0.287770               20.0   \n",
       "176              3    13.17    0.489865  0.028777               20.0   \n",
       "177              3    14.13    1.510135  1.093525               24.5   \n",
       "\n",
       "     Magnesium  Total phenols  Flavanoids  Nonflavanoid phenols  \\\n",
       "0     1.526316           2.80        3.06                  0.28   \n",
       "1     0.105263           2.65        2.76                  0.26   \n",
       "2     0.157895           2.80        3.24                  0.30   \n",
       "3     0.789474           3.85        3.49                  0.24   \n",
       "4     1.052632           2.80        2.69                  0.39   \n",
       "..         ...            ...         ...                   ...   \n",
       "173  -0.157895           1.68        0.61                  0.52   \n",
       "174   0.210526           1.80        0.75                  0.43   \n",
       "175   1.157895           1.59        0.69                  0.43   \n",
       "176   1.157895           1.65        0.68                  0.53   \n",
       "177  -0.105263           2.05        0.76                  0.56   \n",
       "\n",
       "     Proanthocyanins  Color intensity       Hue  OD280/OD315 of diluted wines  \\\n",
       "0           1.050000         0.318792  0.222222                          3.92   \n",
       "1          -0.392857        -0.104027  0.251852                          3.40   \n",
       "2           1.792857         0.332215  0.192593                          3.17   \n",
       "3           0.892857         1.043624 -0.311111                          3.45   \n",
       "4           0.378571        -0.124161  0.222222                          2.93   \n",
       "..               ...              ...       ...                           ...   \n",
       "173        -0.707143         1.010067 -0.962963                          1.74   \n",
       "174        -0.207143         0.875839 -0.785185                          1.56   \n",
       "175        -0.292857         1.848993 -1.111111                          1.56   \n",
       "176        -0.135714         1.546980 -1.081481                          1.62   \n",
       "177        -0.292857         1.513423 -1.051852                          1.60   \n",
       "\n",
       "     Proline  \n",
       "0       1065  \n",
       "1       1050  \n",
       "2       1185  \n",
       "3       1480  \n",
       "4        735  \n",
       "..       ...  \n",
       "173      740  \n",
       "174      750  \n",
       "175      835  \n",
       "176      840  \n",
       "177      560  \n",
       "\n",
       "[178 rows x 14 columns]"
      ]
     },
     "execution_count": 15,
     "metadata": {},
     "output_type": "execute_result"
    }
   ],
   "source": [
    "from sklearn.preprocessing import RobustScaler\n",
    "\n",
    "scaler=RobustScaler()\n",
    "df1 [['Malic acid', 'Ash', 'Magnesium', 'Proanthocyanins', 'Color intensity', 'Hue']] = scaler.fit_transform(df1[['Malic acid', 'Ash', 'Magnesium', 'Proanthocyanins', 'Color intensity', 'Hue']])\n",
    "\n",
    "df1"
   ]
  },
  {
   "cell_type": "markdown",
   "id": "c1745037",
   "metadata": {},
   "source": [
    "**Aplicamos Min Max Scaler**"
   ]
  },
  {
   "cell_type": "code",
   "execution_count": 16,
   "id": "add98247",
   "metadata": {},
   "outputs": [
    {
     "data": {
      "text/html": [
       "<div>\n",
       "<style scoped>\n",
       "    .dataframe tbody tr th:only-of-type {\n",
       "        vertical-align: middle;\n",
       "    }\n",
       "\n",
       "    .dataframe tbody tr th {\n",
       "        vertical-align: top;\n",
       "    }\n",
       "\n",
       "    .dataframe thead th {\n",
       "        text-align: right;\n",
       "    }\n",
       "</style>\n",
       "<table border=\"1\" class=\"dataframe\">\n",
       "  <thead>\n",
       "    <tr style=\"text-align: right;\">\n",
       "      <th></th>\n",
       "      <th>Types of wine</th>\n",
       "      <th>Alcohol</th>\n",
       "      <th>Malic acid</th>\n",
       "      <th>Ash</th>\n",
       "      <th>Alcalinity of ash</th>\n",
       "      <th>Magnesium</th>\n",
       "      <th>Total phenols</th>\n",
       "      <th>Flavanoids</th>\n",
       "      <th>Nonflavanoid phenols</th>\n",
       "      <th>Proanthocyanins</th>\n",
       "      <th>Color intensity</th>\n",
       "      <th>Hue</th>\n",
       "      <th>OD280/OD315 of diluted wines</th>\n",
       "      <th>Proline</th>\n",
       "    </tr>\n",
       "  </thead>\n",
       "  <tbody>\n",
       "    <tr>\n",
       "      <th>0</th>\n",
       "      <td>1</td>\n",
       "      <td>0.842105</td>\n",
       "      <td>-0.104730</td>\n",
       "      <td>0.201439</td>\n",
       "      <td>15.6</td>\n",
       "      <td>1.526316</td>\n",
       "      <td>0.627586</td>\n",
       "      <td>0.573840</td>\n",
       "      <td>0.283019</td>\n",
       "      <td>1.050000</td>\n",
       "      <td>0.318792</td>\n",
       "      <td>0.222222</td>\n",
       "      <td>0.970696</td>\n",
       "      <td>0.561341</td>\n",
       "    </tr>\n",
       "    <tr>\n",
       "      <th>1</th>\n",
       "      <td>1</td>\n",
       "      <td>0.571053</td>\n",
       "      <td>-0.057432</td>\n",
       "      <td>-0.633094</td>\n",
       "      <td>11.2</td>\n",
       "      <td>0.105263</td>\n",
       "      <td>0.575862</td>\n",
       "      <td>0.510549</td>\n",
       "      <td>0.245283</td>\n",
       "      <td>-0.392857</td>\n",
       "      <td>-0.104027</td>\n",
       "      <td>0.251852</td>\n",
       "      <td>0.780220</td>\n",
       "      <td>0.550642</td>\n",
       "    </tr>\n",
       "    <tr>\n",
       "      <th>2</th>\n",
       "      <td>1</td>\n",
       "      <td>0.560526</td>\n",
       "      <td>0.334459</td>\n",
       "      <td>0.892086</td>\n",
       "      <td>18.6</td>\n",
       "      <td>0.157895</td>\n",
       "      <td>0.627586</td>\n",
       "      <td>0.611814</td>\n",
       "      <td>0.320755</td>\n",
       "      <td>1.792857</td>\n",
       "      <td>0.332215</td>\n",
       "      <td>0.192593</td>\n",
       "      <td>0.695971</td>\n",
       "      <td>0.646933</td>\n",
       "    </tr>\n",
       "    <tr>\n",
       "      <th>3</th>\n",
       "      <td>1</td>\n",
       "      <td>0.878947</td>\n",
       "      <td>0.057432</td>\n",
       "      <td>0.402878</td>\n",
       "      <td>16.8</td>\n",
       "      <td>0.789474</td>\n",
       "      <td>0.989655</td>\n",
       "      <td>0.664557</td>\n",
       "      <td>0.207547</td>\n",
       "      <td>0.892857</td>\n",
       "      <td>1.043624</td>\n",
       "      <td>-0.311111</td>\n",
       "      <td>0.798535</td>\n",
       "      <td>0.857347</td>\n",
       "    </tr>\n",
       "    <tr>\n",
       "      <th>4</th>\n",
       "      <td>1</td>\n",
       "      <td>0.581579</td>\n",
       "      <td>0.489865</td>\n",
       "      <td>1.467626</td>\n",
       "      <td>21.0</td>\n",
       "      <td>1.052632</td>\n",
       "      <td>0.627586</td>\n",
       "      <td>0.495781</td>\n",
       "      <td>0.490566</td>\n",
       "      <td>0.378571</td>\n",
       "      <td>-0.124161</td>\n",
       "      <td>0.222222</td>\n",
       "      <td>0.608059</td>\n",
       "      <td>0.325963</td>\n",
       "    </tr>\n",
       "    <tr>\n",
       "      <th>...</th>\n",
       "      <td>...</td>\n",
       "      <td>...</td>\n",
       "      <td>...</td>\n",
       "      <td>...</td>\n",
       "      <td>...</td>\n",
       "      <td>...</td>\n",
       "      <td>...</td>\n",
       "      <td>...</td>\n",
       "      <td>...</td>\n",
       "      <td>...</td>\n",
       "      <td>...</td>\n",
       "      <td>...</td>\n",
       "      <td>...</td>\n",
       "      <td>...</td>\n",
       "    </tr>\n",
       "    <tr>\n",
       "      <th>173</th>\n",
       "      <td>3</td>\n",
       "      <td>0.705263</td>\n",
       "      <td>2.557432</td>\n",
       "      <td>0.258993</td>\n",
       "      <td>20.5</td>\n",
       "      <td>-0.157895</td>\n",
       "      <td>0.241379</td>\n",
       "      <td>0.056962</td>\n",
       "      <td>0.735849</td>\n",
       "      <td>-0.707143</td>\n",
       "      <td>1.010067</td>\n",
       "      <td>-0.962963</td>\n",
       "      <td>0.172161</td>\n",
       "      <td>0.329529</td>\n",
       "    </tr>\n",
       "    <tr>\n",
       "      <th>174</th>\n",
       "      <td>3</td>\n",
       "      <td>0.623684</td>\n",
       "      <td>1.381757</td>\n",
       "      <td>0.345324</td>\n",
       "      <td>23.0</td>\n",
       "      <td>0.210526</td>\n",
       "      <td>0.282759</td>\n",
       "      <td>0.086498</td>\n",
       "      <td>0.566038</td>\n",
       "      <td>-0.207143</td>\n",
       "      <td>0.875839</td>\n",
       "      <td>-0.785185</td>\n",
       "      <td>0.106227</td>\n",
       "      <td>0.336662</td>\n",
       "    </tr>\n",
       "    <tr>\n",
       "      <th>175</th>\n",
       "      <td>3</td>\n",
       "      <td>0.589474</td>\n",
       "      <td>1.631757</td>\n",
       "      <td>-0.287770</td>\n",
       "      <td>20.0</td>\n",
       "      <td>1.157895</td>\n",
       "      <td>0.210345</td>\n",
       "      <td>0.073840</td>\n",
       "      <td>0.566038</td>\n",
       "      <td>-0.292857</td>\n",
       "      <td>1.848993</td>\n",
       "      <td>-1.111111</td>\n",
       "      <td>0.106227</td>\n",
       "      <td>0.397290</td>\n",
       "    </tr>\n",
       "    <tr>\n",
       "      <th>176</th>\n",
       "      <td>3</td>\n",
       "      <td>0.563158</td>\n",
       "      <td>0.489865</td>\n",
       "      <td>0.028777</td>\n",
       "      <td>20.0</td>\n",
       "      <td>1.157895</td>\n",
       "      <td>0.231034</td>\n",
       "      <td>0.071730</td>\n",
       "      <td>0.754717</td>\n",
       "      <td>-0.135714</td>\n",
       "      <td>1.546980</td>\n",
       "      <td>-1.081481</td>\n",
       "      <td>0.128205</td>\n",
       "      <td>0.400856</td>\n",
       "    </tr>\n",
       "    <tr>\n",
       "      <th>177</th>\n",
       "      <td>3</td>\n",
       "      <td>0.815789</td>\n",
       "      <td>1.510135</td>\n",
       "      <td>1.093525</td>\n",
       "      <td>24.5</td>\n",
       "      <td>-0.105263</td>\n",
       "      <td>0.368966</td>\n",
       "      <td>0.088608</td>\n",
       "      <td>0.811321</td>\n",
       "      <td>-0.292857</td>\n",
       "      <td>1.513423</td>\n",
       "      <td>-1.051852</td>\n",
       "      <td>0.120879</td>\n",
       "      <td>0.201141</td>\n",
       "    </tr>\n",
       "  </tbody>\n",
       "</table>\n",
       "<p>178 rows × 14 columns</p>\n",
       "</div>"
      ],
      "text/plain": [
       "     Types of wine   Alcohol  Malic acid       Ash  Alcalinity of ash  \\\n",
       "0                1  0.842105   -0.104730  0.201439               15.6   \n",
       "1                1  0.571053   -0.057432 -0.633094               11.2   \n",
       "2                1  0.560526    0.334459  0.892086               18.6   \n",
       "3                1  0.878947    0.057432  0.402878               16.8   \n",
       "4                1  0.581579    0.489865  1.467626               21.0   \n",
       "..             ...       ...         ...       ...                ...   \n",
       "173              3  0.705263    2.557432  0.258993               20.5   \n",
       "174              3  0.623684    1.381757  0.345324               23.0   \n",
       "175              3  0.589474    1.631757 -0.287770               20.0   \n",
       "176              3  0.563158    0.489865  0.028777               20.0   \n",
       "177              3  0.815789    1.510135  1.093525               24.5   \n",
       "\n",
       "     Magnesium  Total phenols  Flavanoids  Nonflavanoid phenols  \\\n",
       "0     1.526316       0.627586    0.573840              0.283019   \n",
       "1     0.105263       0.575862    0.510549              0.245283   \n",
       "2     0.157895       0.627586    0.611814              0.320755   \n",
       "3     0.789474       0.989655    0.664557              0.207547   \n",
       "4     1.052632       0.627586    0.495781              0.490566   \n",
       "..         ...            ...         ...                   ...   \n",
       "173  -0.157895       0.241379    0.056962              0.735849   \n",
       "174   0.210526       0.282759    0.086498              0.566038   \n",
       "175   1.157895       0.210345    0.073840              0.566038   \n",
       "176   1.157895       0.231034    0.071730              0.754717   \n",
       "177  -0.105263       0.368966    0.088608              0.811321   \n",
       "\n",
       "     Proanthocyanins  Color intensity       Hue  OD280/OD315 of diluted wines  \\\n",
       "0           1.050000         0.318792  0.222222                      0.970696   \n",
       "1          -0.392857        -0.104027  0.251852                      0.780220   \n",
       "2           1.792857         0.332215  0.192593                      0.695971   \n",
       "3           0.892857         1.043624 -0.311111                      0.798535   \n",
       "4           0.378571        -0.124161  0.222222                      0.608059   \n",
       "..               ...              ...       ...                           ...   \n",
       "173        -0.707143         1.010067 -0.962963                      0.172161   \n",
       "174        -0.207143         0.875839 -0.785185                      0.106227   \n",
       "175        -0.292857         1.848993 -1.111111                      0.106227   \n",
       "176        -0.135714         1.546980 -1.081481                      0.128205   \n",
       "177        -0.292857         1.513423 -1.051852                      0.120879   \n",
       "\n",
       "      Proline  \n",
       "0    0.561341  \n",
       "1    0.550642  \n",
       "2    0.646933  \n",
       "3    0.857347  \n",
       "4    0.325963  \n",
       "..        ...  \n",
       "173  0.329529  \n",
       "174  0.336662  \n",
       "175  0.397290  \n",
       "176  0.400856  \n",
       "177  0.201141  \n",
       "\n",
       "[178 rows x 14 columns]"
      ]
     },
     "execution_count": 16,
     "metadata": {},
     "output_type": "execute_result"
    }
   ],
   "source": [
    "from sklearn.preprocessing import MinMaxScaler\n",
    "\n",
    "scaler1 = MinMaxScaler()\n",
    "df1 [['Alcohol', 'Total phenols', 'Flavanoids', 'Nonflavanoid phenols', 'OD280/OD315 of diluted wines', 'Proline']] = scaler1.fit_transform(df1[['Alcohol', 'Total phenols', 'Flavanoids', 'Nonflavanoid phenols', 'OD280/OD315 of diluted wines', 'Proline']])\n",
    "df1"
   ]
  },
  {
   "cell_type": "markdown",
   "id": "8481a631",
   "metadata": {},
   "source": [
    "**Aplicamos estandarización**"
   ]
  },
  {
   "cell_type": "code",
   "execution_count": 19,
   "id": "08bca2e7",
   "metadata": {},
   "outputs": [
    {
     "data": {
      "text/html": [
       "<div>\n",
       "<style scoped>\n",
       "    .dataframe tbody tr th:only-of-type {\n",
       "        vertical-align: middle;\n",
       "    }\n",
       "\n",
       "    .dataframe tbody tr th {\n",
       "        vertical-align: top;\n",
       "    }\n",
       "\n",
       "    .dataframe thead th {\n",
       "        text-align: right;\n",
       "    }\n",
       "</style>\n",
       "<table border=\"1\" class=\"dataframe\">\n",
       "  <thead>\n",
       "    <tr style=\"text-align: right;\">\n",
       "      <th></th>\n",
       "      <th>Types of wine</th>\n",
       "      <th>Alcohol</th>\n",
       "      <th>Malic acid</th>\n",
       "      <th>Ash</th>\n",
       "      <th>Alcalinity of ash</th>\n",
       "      <th>Magnesium</th>\n",
       "      <th>Total phenols</th>\n",
       "      <th>Flavanoids</th>\n",
       "      <th>Nonflavanoid phenols</th>\n",
       "      <th>Proanthocyanins</th>\n",
       "      <th>Color intensity</th>\n",
       "      <th>Hue</th>\n",
       "      <th>OD280/OD315 of diluted wines</th>\n",
       "      <th>Proline</th>\n",
       "    </tr>\n",
       "  </thead>\n",
       "  <tbody>\n",
       "    <tr>\n",
       "      <th>0</th>\n",
       "      <td>1</td>\n",
       "      <td>0.842105</td>\n",
       "      <td>-0.104730</td>\n",
       "      <td>0.201439</td>\n",
       "      <td>-1.169593</td>\n",
       "      <td>1.526316</td>\n",
       "      <td>0.627586</td>\n",
       "      <td>0.573840</td>\n",
       "      <td>0.283019</td>\n",
       "      <td>1.050000</td>\n",
       "      <td>0.318792</td>\n",
       "      <td>0.222222</td>\n",
       "      <td>0.970696</td>\n",
       "      <td>0.561341</td>\n",
       "    </tr>\n",
       "    <tr>\n",
       "      <th>1</th>\n",
       "      <td>1</td>\n",
       "      <td>0.571053</td>\n",
       "      <td>-0.057432</td>\n",
       "      <td>-0.633094</td>\n",
       "      <td>-2.490847</td>\n",
       "      <td>0.105263</td>\n",
       "      <td>0.575862</td>\n",
       "      <td>0.510549</td>\n",
       "      <td>0.245283</td>\n",
       "      <td>-0.392857</td>\n",
       "      <td>-0.104027</td>\n",
       "      <td>0.251852</td>\n",
       "      <td>0.780220</td>\n",
       "      <td>0.550642</td>\n",
       "    </tr>\n",
       "    <tr>\n",
       "      <th>2</th>\n",
       "      <td>1</td>\n",
       "      <td>0.560526</td>\n",
       "      <td>0.334459</td>\n",
       "      <td>0.892086</td>\n",
       "      <td>-0.268738</td>\n",
       "      <td>0.157895</td>\n",
       "      <td>0.627586</td>\n",
       "      <td>0.611814</td>\n",
       "      <td>0.320755</td>\n",
       "      <td>1.792857</td>\n",
       "      <td>0.332215</td>\n",
       "      <td>0.192593</td>\n",
       "      <td>0.695971</td>\n",
       "      <td>0.646933</td>\n",
       "    </tr>\n",
       "    <tr>\n",
       "      <th>3</th>\n",
       "      <td>1</td>\n",
       "      <td>0.878947</td>\n",
       "      <td>0.057432</td>\n",
       "      <td>0.402878</td>\n",
       "      <td>-0.809251</td>\n",
       "      <td>0.789474</td>\n",
       "      <td>0.989655</td>\n",
       "      <td>0.664557</td>\n",
       "      <td>0.207547</td>\n",
       "      <td>0.892857</td>\n",
       "      <td>1.043624</td>\n",
       "      <td>-0.311111</td>\n",
       "      <td>0.798535</td>\n",
       "      <td>0.857347</td>\n",
       "    </tr>\n",
       "    <tr>\n",
       "      <th>4</th>\n",
       "      <td>1</td>\n",
       "      <td>0.581579</td>\n",
       "      <td>0.489865</td>\n",
       "      <td>1.467626</td>\n",
       "      <td>0.451946</td>\n",
       "      <td>1.052632</td>\n",
       "      <td>0.627586</td>\n",
       "      <td>0.495781</td>\n",
       "      <td>0.490566</td>\n",
       "      <td>0.378571</td>\n",
       "      <td>-0.124161</td>\n",
       "      <td>0.222222</td>\n",
       "      <td>0.608059</td>\n",
       "      <td>0.325963</td>\n",
       "    </tr>\n",
       "    <tr>\n",
       "      <th>...</th>\n",
       "      <td>...</td>\n",
       "      <td>...</td>\n",
       "      <td>...</td>\n",
       "      <td>...</td>\n",
       "      <td>...</td>\n",
       "      <td>...</td>\n",
       "      <td>...</td>\n",
       "      <td>...</td>\n",
       "      <td>...</td>\n",
       "      <td>...</td>\n",
       "      <td>...</td>\n",
       "      <td>...</td>\n",
       "      <td>...</td>\n",
       "      <td>...</td>\n",
       "    </tr>\n",
       "    <tr>\n",
       "      <th>173</th>\n",
       "      <td>3</td>\n",
       "      <td>0.705263</td>\n",
       "      <td>2.557432</td>\n",
       "      <td>0.258993</td>\n",
       "      <td>0.301803</td>\n",
       "      <td>-0.157895</td>\n",
       "      <td>0.241379</td>\n",
       "      <td>0.056962</td>\n",
       "      <td>0.735849</td>\n",
       "      <td>-0.707143</td>\n",
       "      <td>1.010067</td>\n",
       "      <td>-0.962963</td>\n",
       "      <td>0.172161</td>\n",
       "      <td>0.329529</td>\n",
       "    </tr>\n",
       "    <tr>\n",
       "      <th>174</th>\n",
       "      <td>3</td>\n",
       "      <td>0.623684</td>\n",
       "      <td>1.381757</td>\n",
       "      <td>0.345324</td>\n",
       "      <td>1.052516</td>\n",
       "      <td>0.210526</td>\n",
       "      <td>0.282759</td>\n",
       "      <td>0.086498</td>\n",
       "      <td>0.566038</td>\n",
       "      <td>-0.207143</td>\n",
       "      <td>0.875839</td>\n",
       "      <td>-0.785185</td>\n",
       "      <td>0.106227</td>\n",
       "      <td>0.336662</td>\n",
       "    </tr>\n",
       "    <tr>\n",
       "      <th>175</th>\n",
       "      <td>3</td>\n",
       "      <td>0.589474</td>\n",
       "      <td>1.631757</td>\n",
       "      <td>-0.287770</td>\n",
       "      <td>0.151661</td>\n",
       "      <td>1.157895</td>\n",
       "      <td>0.210345</td>\n",
       "      <td>0.073840</td>\n",
       "      <td>0.566038</td>\n",
       "      <td>-0.292857</td>\n",
       "      <td>1.848993</td>\n",
       "      <td>-1.111111</td>\n",
       "      <td>0.106227</td>\n",
       "      <td>0.397290</td>\n",
       "    </tr>\n",
       "    <tr>\n",
       "      <th>176</th>\n",
       "      <td>3</td>\n",
       "      <td>0.563158</td>\n",
       "      <td>0.489865</td>\n",
       "      <td>0.028777</td>\n",
       "      <td>0.151661</td>\n",
       "      <td>1.157895</td>\n",
       "      <td>0.231034</td>\n",
       "      <td>0.071730</td>\n",
       "      <td>0.754717</td>\n",
       "      <td>-0.135714</td>\n",
       "      <td>1.546980</td>\n",
       "      <td>-1.081481</td>\n",
       "      <td>0.128205</td>\n",
       "      <td>0.400856</td>\n",
       "    </tr>\n",
       "    <tr>\n",
       "      <th>177</th>\n",
       "      <td>3</td>\n",
       "      <td>0.815789</td>\n",
       "      <td>1.510135</td>\n",
       "      <td>1.093525</td>\n",
       "      <td>1.502943</td>\n",
       "      <td>-0.105263</td>\n",
       "      <td>0.368966</td>\n",
       "      <td>0.088608</td>\n",
       "      <td>0.811321</td>\n",
       "      <td>-0.292857</td>\n",
       "      <td>1.513423</td>\n",
       "      <td>-1.051852</td>\n",
       "      <td>0.120879</td>\n",
       "      <td>0.201141</td>\n",
       "    </tr>\n",
       "  </tbody>\n",
       "</table>\n",
       "<p>178 rows × 14 columns</p>\n",
       "</div>"
      ],
      "text/plain": [
       "     Types of wine   Alcohol  Malic acid       Ash  Alcalinity of ash  \\\n",
       "0                1  0.842105   -0.104730  0.201439          -1.169593   \n",
       "1                1  0.571053   -0.057432 -0.633094          -2.490847   \n",
       "2                1  0.560526    0.334459  0.892086          -0.268738   \n",
       "3                1  0.878947    0.057432  0.402878          -0.809251   \n",
       "4                1  0.581579    0.489865  1.467626           0.451946   \n",
       "..             ...       ...         ...       ...                ...   \n",
       "173              3  0.705263    2.557432  0.258993           0.301803   \n",
       "174              3  0.623684    1.381757  0.345324           1.052516   \n",
       "175              3  0.589474    1.631757 -0.287770           0.151661   \n",
       "176              3  0.563158    0.489865  0.028777           0.151661   \n",
       "177              3  0.815789    1.510135  1.093525           1.502943   \n",
       "\n",
       "     Magnesium  Total phenols  Flavanoids  Nonflavanoid phenols  \\\n",
       "0     1.526316       0.627586    0.573840              0.283019   \n",
       "1     0.105263       0.575862    0.510549              0.245283   \n",
       "2     0.157895       0.627586    0.611814              0.320755   \n",
       "3     0.789474       0.989655    0.664557              0.207547   \n",
       "4     1.052632       0.627586    0.495781              0.490566   \n",
       "..         ...            ...         ...                   ...   \n",
       "173  -0.157895       0.241379    0.056962              0.735849   \n",
       "174   0.210526       0.282759    0.086498              0.566038   \n",
       "175   1.157895       0.210345    0.073840              0.566038   \n",
       "176   1.157895       0.231034    0.071730              0.754717   \n",
       "177  -0.105263       0.368966    0.088608              0.811321   \n",
       "\n",
       "     Proanthocyanins  Color intensity       Hue  OD280/OD315 of diluted wines  \\\n",
       "0           1.050000         0.318792  0.222222                      0.970696   \n",
       "1          -0.392857        -0.104027  0.251852                      0.780220   \n",
       "2           1.792857         0.332215  0.192593                      0.695971   \n",
       "3           0.892857         1.043624 -0.311111                      0.798535   \n",
       "4           0.378571        -0.124161  0.222222                      0.608059   \n",
       "..               ...              ...       ...                           ...   \n",
       "173        -0.707143         1.010067 -0.962963                      0.172161   \n",
       "174        -0.207143         0.875839 -0.785185                      0.106227   \n",
       "175        -0.292857         1.848993 -1.111111                      0.106227   \n",
       "176        -0.135714         1.546980 -1.081481                      0.128205   \n",
       "177        -0.292857         1.513423 -1.051852                      0.120879   \n",
       "\n",
       "      Proline  \n",
       "0    0.561341  \n",
       "1    0.550642  \n",
       "2    0.646933  \n",
       "3    0.857347  \n",
       "4    0.325963  \n",
       "..        ...  \n",
       "173  0.329529  \n",
       "174  0.336662  \n",
       "175  0.397290  \n",
       "176  0.400856  \n",
       "177  0.201141  \n",
       "\n",
       "[178 rows x 14 columns]"
      ]
     },
     "execution_count": 19,
     "metadata": {},
     "output_type": "execute_result"
    }
   ],
   "source": [
    "from sklearn.preprocessing import StandardScaler\n",
    "\n",
    "scaler2 = StandardScaler()\n",
    "df1[['Alcalinity of ash']] = scaler2.fit_transform(df1[['Alcalinity of ash']])\n",
    "df1"
   ]
  },
  {
   "cell_type": "code",
   "execution_count": 20,
   "id": "0743c408",
   "metadata": {},
   "outputs": [
    {
     "data": {
      "text/html": [
       "<div>\n",
       "<style scoped>\n",
       "    .dataframe tbody tr th:only-of-type {\n",
       "        vertical-align: middle;\n",
       "    }\n",
       "\n",
       "    .dataframe tbody tr th {\n",
       "        vertical-align: top;\n",
       "    }\n",
       "\n",
       "    .dataframe thead th {\n",
       "        text-align: right;\n",
       "    }\n",
       "</style>\n",
       "<table border=\"1\" class=\"dataframe\">\n",
       "  <thead>\n",
       "    <tr style=\"text-align: right;\">\n",
       "      <th></th>\n",
       "      <th>Types of wine</th>\n",
       "      <th>Alcohol</th>\n",
       "      <th>Malic acid</th>\n",
       "      <th>Ash</th>\n",
       "      <th>Alcalinity of ash</th>\n",
       "      <th>Magnesium</th>\n",
       "      <th>Total phenols</th>\n",
       "      <th>Flavanoids</th>\n",
       "      <th>Nonflavanoid phenols</th>\n",
       "      <th>Proanthocyanins</th>\n",
       "      <th>Color intensity</th>\n",
       "      <th>Hue</th>\n",
       "      <th>OD280/OD315 of diluted wines</th>\n",
       "      <th>Proline</th>\n",
       "    </tr>\n",
       "  </thead>\n",
       "  <tbody>\n",
       "    <tr>\n",
       "      <th>count</th>\n",
       "      <td>178.000000</td>\n",
       "      <td>178.000000</td>\n",
       "      <td>1.780000e+02</td>\n",
       "      <td>178.000000</td>\n",
       "      <td>178.000000</td>\n",
       "      <td>178.000000</td>\n",
       "      <td>178.000000</td>\n",
       "      <td>178.000000</td>\n",
       "      <td>178.000000</td>\n",
       "      <td>1.780000e+02</td>\n",
       "      <td>1.780000e+02</td>\n",
       "      <td>178.000000</td>\n",
       "      <td>178.000000</td>\n",
       "      <td>178.000000</td>\n",
       "    </tr>\n",
       "    <tr>\n",
       "      <th>mean</th>\n",
       "      <td>1.938202</td>\n",
       "      <td>0.518584</td>\n",
       "      <td>3.184786e-01</td>\n",
       "      <td>0.018754</td>\n",
       "      <td>0.000000</td>\n",
       "      <td>0.091662</td>\n",
       "      <td>0.453487</td>\n",
       "      <td>0.356386</td>\n",
       "      <td>0.437460</td>\n",
       "      <td>5.128411e-02</td>\n",
       "      <td>1.235201e-01</td>\n",
       "      <td>-0.022372</td>\n",
       "      <td>0.491460</td>\n",
       "      <td>0.334446</td>\n",
       "    </tr>\n",
       "    <tr>\n",
       "      <th>std</th>\n",
       "      <td>0.775035</td>\n",
       "      <td>0.213639</td>\n",
       "      <td>7.548284e-01</td>\n",
       "      <td>0.789479</td>\n",
       "      <td>1.002821</td>\n",
       "      <td>0.751710</td>\n",
       "      <td>0.215811</td>\n",
       "      <td>0.210730</td>\n",
       "      <td>0.234818</td>\n",
       "      <td>8.176555e-01</td>\n",
       "      <td>7.779483e-01</td>\n",
       "      <td>0.677249</td>\n",
       "      <td>0.260070</td>\n",
       "      <td>0.224613</td>\n",
       "    </tr>\n",
       "    <tr>\n",
       "      <th>min</th>\n",
       "      <td>1.000000</td>\n",
       "      <td>0.000000</td>\n",
       "      <td>-7.601351e-01</td>\n",
       "      <td>-2.877698</td>\n",
       "      <td>-2.671018</td>\n",
       "      <td>-1.473684</td>\n",
       "      <td>0.000000</td>\n",
       "      <td>0.000000</td>\n",
       "      <td>0.000000</td>\n",
       "      <td>-1.635714e+00</td>\n",
       "      <td>-1.144295e+00</td>\n",
       "      <td>-1.437037</td>\n",
       "      <td>0.000000</td>\n",
       "      <td>0.000000</td>\n",
       "    </tr>\n",
       "    <tr>\n",
       "      <th>25%</th>\n",
       "      <td>1.000000</td>\n",
       "      <td>0.350658</td>\n",
       "      <td>-1.773649e-01</td>\n",
       "      <td>-0.431655</td>\n",
       "      <td>-0.689137</td>\n",
       "      <td>-0.526316</td>\n",
       "      <td>0.262931</td>\n",
       "      <td>0.182489</td>\n",
       "      <td>0.264151</td>\n",
       "      <td>-4.357143e-01</td>\n",
       "      <td>-4.932886e-01</td>\n",
       "      <td>-0.540741</td>\n",
       "      <td>0.244505</td>\n",
       "      <td>0.158702</td>\n",
       "    </tr>\n",
       "    <tr>\n",
       "      <th>50%</th>\n",
       "      <td>2.000000</td>\n",
       "      <td>0.531579</td>\n",
       "      <td>-7.502679e-17</td>\n",
       "      <td>0.000000</td>\n",
       "      <td>0.001518</td>\n",
       "      <td>0.000000</td>\n",
       "      <td>0.474138</td>\n",
       "      <td>0.378692</td>\n",
       "      <td>0.396226</td>\n",
       "      <td>-1.587272e-16</td>\n",
       "      <td>1.491862e-16</td>\n",
       "      <td>0.000000</td>\n",
       "      <td>0.553114</td>\n",
       "      <td>0.282097</td>\n",
       "    </tr>\n",
       "    <tr>\n",
       "      <th>75%</th>\n",
       "      <td>3.000000</td>\n",
       "      <td>0.696711</td>\n",
       "      <td>8.226351e-01</td>\n",
       "      <td>0.568345</td>\n",
       "      <td>0.602088</td>\n",
       "      <td>0.473684</td>\n",
       "      <td>0.627586</td>\n",
       "      <td>0.534810</td>\n",
       "      <td>0.580189</td>\n",
       "      <td>5.642857e-01</td>\n",
       "      <td>5.067114e-01</td>\n",
       "      <td>0.459259</td>\n",
       "      <td>0.695971</td>\n",
       "      <td>0.504280</td>\n",
       "    </tr>\n",
       "    <tr>\n",
       "      <th>max</th>\n",
       "      <td>3.000000</td>\n",
       "      <td>1.000000</td>\n",
       "      <td>2.658784e+00</td>\n",
       "      <td>2.503597</td>\n",
       "      <td>3.154511</td>\n",
       "      <td>3.368421</td>\n",
       "      <td>1.000000</td>\n",
       "      <td>1.000000</td>\n",
       "      <td>1.000000</td>\n",
       "      <td>2.892857e+00</td>\n",
       "      <td>2.788591e+00</td>\n",
       "      <td>2.207407</td>\n",
       "      <td>1.000000</td>\n",
       "      <td>1.000000</td>\n",
       "    </tr>\n",
       "  </tbody>\n",
       "</table>\n",
       "</div>"
      ],
      "text/plain": [
       "       Types of wine     Alcohol    Malic acid         Ash  Alcalinity of ash  \\\n",
       "count     178.000000  178.000000  1.780000e+02  178.000000         178.000000   \n",
       "mean        1.938202    0.518584  3.184786e-01    0.018754           0.000000   \n",
       "std         0.775035    0.213639  7.548284e-01    0.789479           1.002821   \n",
       "min         1.000000    0.000000 -7.601351e-01   -2.877698          -2.671018   \n",
       "25%         1.000000    0.350658 -1.773649e-01   -0.431655          -0.689137   \n",
       "50%         2.000000    0.531579 -7.502679e-17    0.000000           0.001518   \n",
       "75%         3.000000    0.696711  8.226351e-01    0.568345           0.602088   \n",
       "max         3.000000    1.000000  2.658784e+00    2.503597           3.154511   \n",
       "\n",
       "        Magnesium  Total phenols  Flavanoids  Nonflavanoid phenols  \\\n",
       "count  178.000000     178.000000  178.000000            178.000000   \n",
       "mean     0.091662       0.453487    0.356386              0.437460   \n",
       "std      0.751710       0.215811    0.210730              0.234818   \n",
       "min     -1.473684       0.000000    0.000000              0.000000   \n",
       "25%     -0.526316       0.262931    0.182489              0.264151   \n",
       "50%      0.000000       0.474138    0.378692              0.396226   \n",
       "75%      0.473684       0.627586    0.534810              0.580189   \n",
       "max      3.368421       1.000000    1.000000              1.000000   \n",
       "\n",
       "       Proanthocyanins  Color intensity         Hue  \\\n",
       "count     1.780000e+02     1.780000e+02  178.000000   \n",
       "mean      5.128411e-02     1.235201e-01   -0.022372   \n",
       "std       8.176555e-01     7.779483e-01    0.677249   \n",
       "min      -1.635714e+00    -1.144295e+00   -1.437037   \n",
       "25%      -4.357143e-01    -4.932886e-01   -0.540741   \n",
       "50%      -1.587272e-16     1.491862e-16    0.000000   \n",
       "75%       5.642857e-01     5.067114e-01    0.459259   \n",
       "max       2.892857e+00     2.788591e+00    2.207407   \n",
       "\n",
       "       OD280/OD315 of diluted wines     Proline  \n",
       "count                    178.000000  178.000000  \n",
       "mean                       0.491460    0.334446  \n",
       "std                        0.260070    0.224613  \n",
       "min                        0.000000    0.000000  \n",
       "25%                        0.244505    0.158702  \n",
       "50%                        0.553114    0.282097  \n",
       "75%                        0.695971    0.504280  \n",
       "max                        1.000000    1.000000  "
      ]
     },
     "execution_count": 20,
     "metadata": {},
     "output_type": "execute_result"
    }
   ],
   "source": [
    "df1.describe()"
   ]
  },
  {
   "cell_type": "markdown",
   "id": "b219ad78",
   "metadata": {},
   "source": [
    "Dividir los datos en train y test, separando también el target que será el type of wine"
   ]
  },
  {
   "cell_type": "code",
   "execution_count": 21,
   "id": "0dc4db76",
   "metadata": {},
   "outputs": [
    {
     "name": "stdout",
     "output_type": "stream",
     "text": [
      "(178, 13) (178, 1)\n"
     ]
    }
   ],
   "source": [
    "X= df1.drop(['Types of wine'], axis=1)  #es el precio en miles de dolares\n",
    "y=df1[['Types of wine']]\n",
    "\n",
    "print(X.shape, y.shape)"
   ]
  },
  {
   "cell_type": "markdown",
   "id": "9ef5c56d",
   "metadata": {},
   "source": [
    "Definimos los datos para el Training Test:"
   ]
  },
  {
   "cell_type": "code",
   "execution_count": 22,
   "id": "d6b0dda0",
   "metadata": {},
   "outputs": [
    {
     "data": {
      "text/html": [
       "<div>\n",
       "<style scoped>\n",
       "    .dataframe tbody tr th:only-of-type {\n",
       "        vertical-align: middle;\n",
       "    }\n",
       "\n",
       "    .dataframe tbody tr th {\n",
       "        vertical-align: top;\n",
       "    }\n",
       "\n",
       "    .dataframe thead th {\n",
       "        text-align: right;\n",
       "    }\n",
       "</style>\n",
       "<table border=\"1\" class=\"dataframe\">\n",
       "  <thead>\n",
       "    <tr style=\"text-align: right;\">\n",
       "      <th></th>\n",
       "      <th>Alcohol</th>\n",
       "      <th>Malic acid</th>\n",
       "      <th>Ash</th>\n",
       "      <th>Alcalinity of ash</th>\n",
       "      <th>Magnesium</th>\n",
       "      <th>Total phenols</th>\n",
       "      <th>Flavanoids</th>\n",
       "      <th>Nonflavanoid phenols</th>\n",
       "      <th>Proanthocyanins</th>\n",
       "      <th>Color intensity</th>\n",
       "      <th>Hue</th>\n",
       "      <th>OD280/OD315 of diluted wines</th>\n",
       "      <th>Proline</th>\n",
       "    </tr>\n",
       "  </thead>\n",
       "  <tbody>\n",
       "    <tr>\n",
       "      <th>4</th>\n",
       "      <td>0.581579</td>\n",
       "      <td>0.489865</td>\n",
       "      <td>1.467626</td>\n",
       "      <td>0.451946</td>\n",
       "      <td>1.052632</td>\n",
       "      <td>0.627586</td>\n",
       "      <td>0.495781</td>\n",
       "      <td>0.490566</td>\n",
       "      <td>0.378571</td>\n",
       "      <td>-0.124161</td>\n",
       "      <td>0.222222</td>\n",
       "      <td>0.608059</td>\n",
       "      <td>0.325963</td>\n",
       "    </tr>\n",
       "    <tr>\n",
       "      <th>55</th>\n",
       "      <td>0.665789</td>\n",
       "      <td>-0.091216</td>\n",
       "      <td>0.287770</td>\n",
       "      <td>0.301803</td>\n",
       "      <td>0.947368</td>\n",
       "      <td>0.682759</td>\n",
       "      <td>0.514768</td>\n",
       "      <td>0.132075</td>\n",
       "      <td>1.278571</td>\n",
       "      <td>0.523490</td>\n",
       "      <td>0.044444</td>\n",
       "      <td>0.644689</td>\n",
       "      <td>0.600571</td>\n",
       "    </tr>\n",
       "    <tr>\n",
       "      <th>162</th>\n",
       "      <td>0.478947</td>\n",
       "      <td>0.949324</td>\n",
       "      <td>0.633094</td>\n",
       "      <td>0.752231</td>\n",
       "      <td>0.421053</td>\n",
       "      <td>0.231034</td>\n",
       "      <td>0.054852</td>\n",
       "      <td>0.886792</td>\n",
       "      <td>-0.850000</td>\n",
       "      <td>0.298658</td>\n",
       "      <td>-0.281481</td>\n",
       "      <td>0.307692</td>\n",
       "      <td>0.208274</td>\n",
       "    </tr>\n",
       "    <tr>\n",
       "      <th>141</th>\n",
       "      <td>0.613158</td>\n",
       "      <td>0.469595</td>\n",
       "      <td>-0.028777</td>\n",
       "      <td>0.151661</td>\n",
       "      <td>-0.473684</td>\n",
       "      <td>0.144828</td>\n",
       "      <td>0.033755</td>\n",
       "      <td>0.452830</td>\n",
       "      <td>-1.307143</td>\n",
       "      <td>0.305369</td>\n",
       "      <td>-0.785185</td>\n",
       "      <td>0.439560</td>\n",
       "      <td>0.358060</td>\n",
       "    </tr>\n",
       "    <tr>\n",
       "      <th>33</th>\n",
       "      <td>0.718421</td>\n",
       "      <td>-0.226351</td>\n",
       "      <td>0.978417</td>\n",
       "      <td>0.001518</td>\n",
       "      <td>1.789474</td>\n",
       "      <td>0.679310</td>\n",
       "      <td>0.506329</td>\n",
       "      <td>0.698113</td>\n",
       "      <td>-0.292857</td>\n",
       "      <td>0.238255</td>\n",
       "      <td>0.844444</td>\n",
       "      <td>0.633700</td>\n",
       "      <td>0.682596</td>\n",
       "    </tr>\n",
       "    <tr>\n",
       "      <th>...</th>\n",
       "      <td>...</td>\n",
       "      <td>...</td>\n",
       "      <td>...</td>\n",
       "      <td>...</td>\n",
       "      <td>...</td>\n",
       "      <td>...</td>\n",
       "      <td>...</td>\n",
       "      <td>...</td>\n",
       "      <td>...</td>\n",
       "      <td>...</td>\n",
       "      <td>...</td>\n",
       "      <td>...</td>\n",
       "      <td>...</td>\n",
       "    </tr>\n",
       "    <tr>\n",
       "      <th>176</th>\n",
       "      <td>0.563158</td>\n",
       "      <td>0.489865</td>\n",
       "      <td>0.028777</td>\n",
       "      <td>0.151661</td>\n",
       "      <td>1.157895</td>\n",
       "      <td>0.231034</td>\n",
       "      <td>0.071730</td>\n",
       "      <td>0.754717</td>\n",
       "      <td>-0.135714</td>\n",
       "      <td>1.546980</td>\n",
       "      <td>-1.081481</td>\n",
       "      <td>0.128205</td>\n",
       "      <td>0.400856</td>\n",
       "    </tr>\n",
       "    <tr>\n",
       "      <th>99</th>\n",
       "      <td>0.331579</td>\n",
       "      <td>0.881757</td>\n",
       "      <td>-0.431655</td>\n",
       "      <td>-0.448909</td>\n",
       "      <td>-0.526316</td>\n",
       "      <td>0.644828</td>\n",
       "      <td>0.559072</td>\n",
       "      <td>0.603774</td>\n",
       "      <td>1.792857</td>\n",
       "      <td>-0.802013</td>\n",
       "      <td>1.348148</td>\n",
       "      <td>0.571429</td>\n",
       "      <td>0.091298</td>\n",
       "    </tr>\n",
       "    <tr>\n",
       "      <th>101</th>\n",
       "      <td>0.413158</td>\n",
       "      <td>-0.354730</td>\n",
       "      <td>-1.323741</td>\n",
       "      <td>-0.298767</td>\n",
       "      <td>-0.526316</td>\n",
       "      <td>0.162069</td>\n",
       "      <td>0.215190</td>\n",
       "      <td>0.301887</td>\n",
       "      <td>-0.292857</td>\n",
       "      <td>-0.751678</td>\n",
       "      <td>0.222222</td>\n",
       "      <td>0.549451</td>\n",
       "      <td>0.202568</td>\n",
       "    </tr>\n",
       "    <tr>\n",
       "      <th>8</th>\n",
       "      <td>1.000000</td>\n",
       "      <td>-0.152027</td>\n",
       "      <td>-0.546763</td>\n",
       "      <td>-1.650049</td>\n",
       "      <td>-0.052632</td>\n",
       "      <td>0.627586</td>\n",
       "      <td>0.556962</td>\n",
       "      <td>0.301887</td>\n",
       "      <td>0.607143</td>\n",
       "      <td>0.171141</td>\n",
       "      <td>0.340741</td>\n",
       "      <td>0.578755</td>\n",
       "      <td>0.547076</td>\n",
       "    </tr>\n",
       "    <tr>\n",
       "      <th>152</th>\n",
       "      <td>0.547368</td>\n",
       "      <td>0.023649</td>\n",
       "      <td>1.122302</td>\n",
       "      <td>1.803228</td>\n",
       "      <td>0.947368</td>\n",
       "      <td>0.420690</td>\n",
       "      <td>0.198312</td>\n",
       "      <td>0.245283</td>\n",
       "      <td>0.007143</td>\n",
       "      <td>0.808725</td>\n",
       "      <td>-1.051852</td>\n",
       "      <td>0.021978</td>\n",
       "      <td>0.104850</td>\n",
       "    </tr>\n",
       "  </tbody>\n",
       "</table>\n",
       "<p>133 rows × 13 columns</p>\n",
       "</div>"
      ],
      "text/plain": [
       "      Alcohol  Malic acid       Ash  Alcalinity of ash  Magnesium  \\\n",
       "4    0.581579    0.489865  1.467626           0.451946   1.052632   \n",
       "55   0.665789   -0.091216  0.287770           0.301803   0.947368   \n",
       "162  0.478947    0.949324  0.633094           0.752231   0.421053   \n",
       "141  0.613158    0.469595 -0.028777           0.151661  -0.473684   \n",
       "33   0.718421   -0.226351  0.978417           0.001518   1.789474   \n",
       "..        ...         ...       ...                ...        ...   \n",
       "176  0.563158    0.489865  0.028777           0.151661   1.157895   \n",
       "99   0.331579    0.881757 -0.431655          -0.448909  -0.526316   \n",
       "101  0.413158   -0.354730 -1.323741          -0.298767  -0.526316   \n",
       "8    1.000000   -0.152027 -0.546763          -1.650049  -0.052632   \n",
       "152  0.547368    0.023649  1.122302           1.803228   0.947368   \n",
       "\n",
       "     Total phenols  Flavanoids  Nonflavanoid phenols  Proanthocyanins  \\\n",
       "4         0.627586    0.495781              0.490566         0.378571   \n",
       "55        0.682759    0.514768              0.132075         1.278571   \n",
       "162       0.231034    0.054852              0.886792        -0.850000   \n",
       "141       0.144828    0.033755              0.452830        -1.307143   \n",
       "33        0.679310    0.506329              0.698113        -0.292857   \n",
       "..             ...         ...                   ...              ...   \n",
       "176       0.231034    0.071730              0.754717        -0.135714   \n",
       "99        0.644828    0.559072              0.603774         1.792857   \n",
       "101       0.162069    0.215190              0.301887        -0.292857   \n",
       "8         0.627586    0.556962              0.301887         0.607143   \n",
       "152       0.420690    0.198312              0.245283         0.007143   \n",
       "\n",
       "     Color intensity       Hue  OD280/OD315 of diluted wines   Proline  \n",
       "4          -0.124161  0.222222                      0.608059  0.325963  \n",
       "55          0.523490  0.044444                      0.644689  0.600571  \n",
       "162         0.298658 -0.281481                      0.307692  0.208274  \n",
       "141         0.305369 -0.785185                      0.439560  0.358060  \n",
       "33          0.238255  0.844444                      0.633700  0.682596  \n",
       "..               ...       ...                           ...       ...  \n",
       "176         1.546980 -1.081481                      0.128205  0.400856  \n",
       "99         -0.802013  1.348148                      0.571429  0.091298  \n",
       "101        -0.751678  0.222222                      0.549451  0.202568  \n",
       "8           0.171141  0.340741                      0.578755  0.547076  \n",
       "152         0.808725 -1.051852                      0.021978  0.104850  \n",
       "\n",
       "[133 rows x 13 columns]"
      ]
     },
     "execution_count": 22,
     "metadata": {},
     "output_type": "execute_result"
    }
   ],
   "source": [
    "X_train, X_test, y_train, y_test = train_test_split(X, y)\n",
    "X_train"
   ]
  },
  {
   "cell_type": "markdown",
   "id": "84285b76",
   "metadata": {},
   "source": [
    "Con el test_size definimos que porcentaje vamos a usar para el Test Set (20%), y verificamos las dimensiones de los nuevos sets"
   ]
  },
  {
   "cell_type": "code",
   "execution_count": 23,
   "id": "2f4ea9e8",
   "metadata": {},
   "outputs": [
    {
     "name": "stdout",
     "output_type": "stream",
     "text": [
      "(142, 13) (36, 13) (142, 1) (36, 1)\n"
     ]
    }
   ],
   "source": [
    "X_train, X_test, y_train, y_test = train_test_split(X, y, random_state=0, test_size=0.20)\n",
    "print(X_train.shape, X_test.shape, y_train.shape, y_test.shape)"
   ]
  },
  {
   "cell_type": "markdown",
   "id": "86fe7fab",
   "metadata": {},
   "source": [
    "Ahora, que ya tenemos los datos divididos y preprocesados, podemos comenzar a crear 2 modelos de clasificación, de los cuales optamos por realizar: **Logistic regression y K-Nearest Neighbors (KNN)**"
   ]
  },
  {
   "cell_type": "markdown",
   "id": "47d0ae2d",
   "metadata": {},
   "source": [
    "### Logistic Regression"
   ]
  },
  {
   "cell_type": "markdown",
   "id": "14bdac38",
   "metadata": {},
   "source": [
    "La **regresión logística** es un modelo de análisis estadístico utilizado para predecir la probabilidad de ocurrencia de un evento binario, es decir, un evento que puede tener dos resultados posibles, como \"sí\" o \"no\", \"verdadero\" o \"falso\", etc. En lugar de predecir un valor continuo como en la regresión lineal, la regresión logística predice una probabilidad, que luego se puede usar para clasificar una muestra en una de las dos categorías.\n",
    "\n",
    "La función principal de la regresión logística es calcular la probabilidad de ocurrencia de un evento binario dado un conjunto de características predictoras. Esto se hace utilizando una función logística, que transforma los valores de las características predictoras en valores comprendidos entre 0 y 1 que representan la probabilidad. Una vez que se han calculado las probabilidades, se pueden utilizar para hacer una predicción, por ejemplo, clasificar una muestra en una de las dos categorías basándose en si la probabilidad es mayor o menor que un umbral específico."
   ]
  },
  {
   "cell_type": "code",
   "execution_count": 24,
   "id": "a95dd2da",
   "metadata": {},
   "outputs": [
    {
     "name": "stderr",
     "output_type": "stream",
     "text": [
      "C:\\Users\\flore\\AppData\\Local\\Programs\\Python\\Python310\\lib\\site-packages\\sklearn\\utils\\validation.py:1141: DataConversionWarning: A column-vector y was passed when a 1d array was expected. Please change the shape of y to (n_samples, ), for example using ravel().\n",
      "  y = column_or_1d(y, warn=True)\n"
     ]
    },
    {
     "data": {
      "text/html": [
       "<style>#sk-container-id-1 {color: black;background-color: white;}#sk-container-id-1 pre{padding: 0;}#sk-container-id-1 div.sk-toggleable {background-color: white;}#sk-container-id-1 label.sk-toggleable__label {cursor: pointer;display: block;width: 100%;margin-bottom: 0;padding: 0.3em;box-sizing: border-box;text-align: center;}#sk-container-id-1 label.sk-toggleable__label-arrow:before {content: \"▸\";float: left;margin-right: 0.25em;color: #696969;}#sk-container-id-1 label.sk-toggleable__label-arrow:hover:before {color: black;}#sk-container-id-1 div.sk-estimator:hover label.sk-toggleable__label-arrow:before {color: black;}#sk-container-id-1 div.sk-toggleable__content {max-height: 0;max-width: 0;overflow: hidden;text-align: left;background-color: #f0f8ff;}#sk-container-id-1 div.sk-toggleable__content pre {margin: 0.2em;color: black;border-radius: 0.25em;background-color: #f0f8ff;}#sk-container-id-1 input.sk-toggleable__control:checked~div.sk-toggleable__content {max-height: 200px;max-width: 100%;overflow: auto;}#sk-container-id-1 input.sk-toggleable__control:checked~label.sk-toggleable__label-arrow:before {content: \"▾\";}#sk-container-id-1 div.sk-estimator input.sk-toggleable__control:checked~label.sk-toggleable__label {background-color: #d4ebff;}#sk-container-id-1 div.sk-label input.sk-toggleable__control:checked~label.sk-toggleable__label {background-color: #d4ebff;}#sk-container-id-1 input.sk-hidden--visually {border: 0;clip: rect(1px 1px 1px 1px);clip: rect(1px, 1px, 1px, 1px);height: 1px;margin: -1px;overflow: hidden;padding: 0;position: absolute;width: 1px;}#sk-container-id-1 div.sk-estimator {font-family: monospace;background-color: #f0f8ff;border: 1px dotted black;border-radius: 0.25em;box-sizing: border-box;margin-bottom: 0.5em;}#sk-container-id-1 div.sk-estimator:hover {background-color: #d4ebff;}#sk-container-id-1 div.sk-parallel-item::after {content: \"\";width: 100%;border-bottom: 1px solid gray;flex-grow: 1;}#sk-container-id-1 div.sk-label:hover label.sk-toggleable__label {background-color: #d4ebff;}#sk-container-id-1 div.sk-serial::before {content: \"\";position: absolute;border-left: 1px solid gray;box-sizing: border-box;top: 0;bottom: 0;left: 50%;z-index: 0;}#sk-container-id-1 div.sk-serial {display: flex;flex-direction: column;align-items: center;background-color: white;padding-right: 0.2em;padding-left: 0.2em;position: relative;}#sk-container-id-1 div.sk-item {position: relative;z-index: 1;}#sk-container-id-1 div.sk-parallel {display: flex;align-items: stretch;justify-content: center;background-color: white;position: relative;}#sk-container-id-1 div.sk-item::before, #sk-container-id-1 div.sk-parallel-item::before {content: \"\";position: absolute;border-left: 1px solid gray;box-sizing: border-box;top: 0;bottom: 0;left: 50%;z-index: -1;}#sk-container-id-1 div.sk-parallel-item {display: flex;flex-direction: column;z-index: 1;position: relative;background-color: white;}#sk-container-id-1 div.sk-parallel-item:first-child::after {align-self: flex-end;width: 50%;}#sk-container-id-1 div.sk-parallel-item:last-child::after {align-self: flex-start;width: 50%;}#sk-container-id-1 div.sk-parallel-item:only-child::after {width: 0;}#sk-container-id-1 div.sk-dashed-wrapped {border: 1px dashed gray;margin: 0 0.4em 0.5em 0.4em;box-sizing: border-box;padding-bottom: 0.4em;background-color: white;}#sk-container-id-1 div.sk-label label {font-family: monospace;font-weight: bold;display: inline-block;line-height: 1.2em;}#sk-container-id-1 div.sk-label-container {text-align: center;}#sk-container-id-1 div.sk-container {/* jupyter's `normalize.less` sets `[hidden] { display: none; }` but bootstrap.min.css set `[hidden] { display: none !important; }` so we also need the `!important` here to be able to override the default hidden behavior on the sphinx rendered scikit-learn.org. See: https://github.com/scikit-learn/scikit-learn/issues/21755 */display: inline-block !important;position: relative;}#sk-container-id-1 div.sk-text-repr-fallback {display: none;}</style><div id=\"sk-container-id-1\" class=\"sk-top-container\"><div class=\"sk-text-repr-fallback\"><pre>LogisticRegression(random_state=42)</pre><b>In a Jupyter environment, please rerun this cell to show the HTML representation or trust the notebook. <br />On GitHub, the HTML representation is unable to render, please try loading this page with nbviewer.org.</b></div><div class=\"sk-container\" hidden><div class=\"sk-item\"><div class=\"sk-estimator sk-toggleable\"><input class=\"sk-toggleable__control sk-hidden--visually\" id=\"sk-estimator-id-1\" type=\"checkbox\" checked><label for=\"sk-estimator-id-1\" class=\"sk-toggleable__label sk-toggleable__label-arrow\">LogisticRegression</label><div class=\"sk-toggleable__content\"><pre>LogisticRegression(random_state=42)</pre></div></div></div></div></div>"
      ],
      "text/plain": [
       "LogisticRegression(random_state=42)"
      ]
     },
     "execution_count": 24,
     "metadata": {},
     "output_type": "execute_result"
    }
   ],
   "source": [
    "from sklearn.linear_model import LogisticRegression\n",
    "\n",
    "lg = LogisticRegression(random_state=42)\n",
    "lg.fit(X_train, y_train)"
   ]
  },
  {
   "cell_type": "code",
   "execution_count": 25,
   "id": "7a8596f8",
   "metadata": {},
   "outputs": [
    {
     "data": {
      "text/plain": [
       "array([1, 3, 2, 1, 2, 3, 1, 3, 2, 2, 3, 3, 1, 2, 3, 2, 1, 1, 3, 1, 2, 1,\n",
       "       1, 2, 2, 2, 2, 2, 1, 3, 1, 1, 2, 1, 1, 1], dtype=int64)"
      ]
     },
     "execution_count": 25,
     "metadata": {},
     "output_type": "execute_result"
    }
   ],
   "source": [
    "y_pred_lg= lg.predict(X_test)\n",
    "y_pred_lg"
   ]
  },
  {
   "cell_type": "markdown",
   "id": "932c4be3",
   "metadata": {},
   "source": [
    "### K-Nearest Neighbors (KNN)"
   ]
  },
  {
   "cell_type": "markdown",
   "id": "25a299ca",
   "metadata": {},
   "source": [
    "El algoritmo **K-Nearest Neighbors (KNN)** es un método de clasificación o regresión que se basa en la idea de que un punto dado es similar a los puntos que están cerca de él. La idea detrás de KNN es que un punto dado probablemente pertenecerá a la misma clase que los K puntos más cercanos a él en el espacio de características.\n",
    "\n",
    "\n",
    "La función principal de KNN es determinar la distancia entre las muestras de entrenamiento y una muestra de prueba, y luego seleccionar los K vecinos más cercanos. Una vez que se han seleccionado los K vecinos más cercanos, se utilizan para hacer una predicción. Para hacer una predicción en el caso de la clasificación, se puede tomar la clase más común entre los K vecinos más cercanos. Para hacer una predicción en el caso de la regresión, se puede calcular el promedio o la mediana de los valores de los K vecinos más cercanos."
   ]
  },
  {
   "cell_type": "code",
   "execution_count": 26,
   "id": "f1fe90f8",
   "metadata": {},
   "outputs": [
    {
     "name": "stderr",
     "output_type": "stream",
     "text": [
      "C:\\Users\\flore\\AppData\\Local\\Programs\\Python\\Python310\\lib\\site-packages\\sklearn\\neighbors\\_classification.py:215: DataConversionWarning: A column-vector y was passed when a 1d array was expected. Please change the shape of y to (n_samples,), for example using ravel().\n",
      "  return self._fit(X, y)\n"
     ]
    },
    {
     "data": {
      "text/html": [
       "<style>#sk-container-id-2 {color: black;background-color: white;}#sk-container-id-2 pre{padding: 0;}#sk-container-id-2 div.sk-toggleable {background-color: white;}#sk-container-id-2 label.sk-toggleable__label {cursor: pointer;display: block;width: 100%;margin-bottom: 0;padding: 0.3em;box-sizing: border-box;text-align: center;}#sk-container-id-2 label.sk-toggleable__label-arrow:before {content: \"▸\";float: left;margin-right: 0.25em;color: #696969;}#sk-container-id-2 label.sk-toggleable__label-arrow:hover:before {color: black;}#sk-container-id-2 div.sk-estimator:hover label.sk-toggleable__label-arrow:before {color: black;}#sk-container-id-2 div.sk-toggleable__content {max-height: 0;max-width: 0;overflow: hidden;text-align: left;background-color: #f0f8ff;}#sk-container-id-2 div.sk-toggleable__content pre {margin: 0.2em;color: black;border-radius: 0.25em;background-color: #f0f8ff;}#sk-container-id-2 input.sk-toggleable__control:checked~div.sk-toggleable__content {max-height: 200px;max-width: 100%;overflow: auto;}#sk-container-id-2 input.sk-toggleable__control:checked~label.sk-toggleable__label-arrow:before {content: \"▾\";}#sk-container-id-2 div.sk-estimator input.sk-toggleable__control:checked~label.sk-toggleable__label {background-color: #d4ebff;}#sk-container-id-2 div.sk-label input.sk-toggleable__control:checked~label.sk-toggleable__label {background-color: #d4ebff;}#sk-container-id-2 input.sk-hidden--visually {border: 0;clip: rect(1px 1px 1px 1px);clip: rect(1px, 1px, 1px, 1px);height: 1px;margin: -1px;overflow: hidden;padding: 0;position: absolute;width: 1px;}#sk-container-id-2 div.sk-estimator {font-family: monospace;background-color: #f0f8ff;border: 1px dotted black;border-radius: 0.25em;box-sizing: border-box;margin-bottom: 0.5em;}#sk-container-id-2 div.sk-estimator:hover {background-color: #d4ebff;}#sk-container-id-2 div.sk-parallel-item::after {content: \"\";width: 100%;border-bottom: 1px solid gray;flex-grow: 1;}#sk-container-id-2 div.sk-label:hover label.sk-toggleable__label {background-color: #d4ebff;}#sk-container-id-2 div.sk-serial::before {content: \"\";position: absolute;border-left: 1px solid gray;box-sizing: border-box;top: 0;bottom: 0;left: 50%;z-index: 0;}#sk-container-id-2 div.sk-serial {display: flex;flex-direction: column;align-items: center;background-color: white;padding-right: 0.2em;padding-left: 0.2em;position: relative;}#sk-container-id-2 div.sk-item {position: relative;z-index: 1;}#sk-container-id-2 div.sk-parallel {display: flex;align-items: stretch;justify-content: center;background-color: white;position: relative;}#sk-container-id-2 div.sk-item::before, #sk-container-id-2 div.sk-parallel-item::before {content: \"\";position: absolute;border-left: 1px solid gray;box-sizing: border-box;top: 0;bottom: 0;left: 50%;z-index: -1;}#sk-container-id-2 div.sk-parallel-item {display: flex;flex-direction: column;z-index: 1;position: relative;background-color: white;}#sk-container-id-2 div.sk-parallel-item:first-child::after {align-self: flex-end;width: 50%;}#sk-container-id-2 div.sk-parallel-item:last-child::after {align-self: flex-start;width: 50%;}#sk-container-id-2 div.sk-parallel-item:only-child::after {width: 0;}#sk-container-id-2 div.sk-dashed-wrapped {border: 1px dashed gray;margin: 0 0.4em 0.5em 0.4em;box-sizing: border-box;padding-bottom: 0.4em;background-color: white;}#sk-container-id-2 div.sk-label label {font-family: monospace;font-weight: bold;display: inline-block;line-height: 1.2em;}#sk-container-id-2 div.sk-label-container {text-align: center;}#sk-container-id-2 div.sk-container {/* jupyter's `normalize.less` sets `[hidden] { display: none; }` but bootstrap.min.css set `[hidden] { display: none !important; }` so we also need the `!important` here to be able to override the default hidden behavior on the sphinx rendered scikit-learn.org. See: https://github.com/scikit-learn/scikit-learn/issues/21755 */display: inline-block !important;position: relative;}#sk-container-id-2 div.sk-text-repr-fallback {display: none;}</style><div id=\"sk-container-id-2\" class=\"sk-top-container\"><div class=\"sk-text-repr-fallback\"><pre>KNeighborsClassifier()</pre><b>In a Jupyter environment, please rerun this cell to show the HTML representation or trust the notebook. <br />On GitHub, the HTML representation is unable to render, please try loading this page with nbviewer.org.</b></div><div class=\"sk-container\" hidden><div class=\"sk-item\"><div class=\"sk-estimator sk-toggleable\"><input class=\"sk-toggleable__control sk-hidden--visually\" id=\"sk-estimator-id-2\" type=\"checkbox\" checked><label for=\"sk-estimator-id-2\" class=\"sk-toggleable__label sk-toggleable__label-arrow\">KNeighborsClassifier</label><div class=\"sk-toggleable__content\"><pre>KNeighborsClassifier()</pre></div></div></div></div></div>"
      ],
      "text/plain": [
       "KNeighborsClassifier()"
      ]
     },
     "execution_count": 26,
     "metadata": {},
     "output_type": "execute_result"
    }
   ],
   "source": [
    "from sklearn.neighbors import KNeighborsClassifier\n",
    "\n",
    "knn = KNeighborsClassifier()\n",
    "knn.fit(X_train, y_train)"
   ]
  },
  {
   "cell_type": "code",
   "execution_count": 27,
   "id": "bc83cf49",
   "metadata": {},
   "outputs": [
    {
     "data": {
      "text/plain": [
       "array([1, 3, 2, 1, 2, 2, 1, 3, 2, 2, 3, 3, 1, 2, 3, 2, 1, 1, 2, 1, 1, 1,\n",
       "       1, 2, 2, 2, 2, 2, 1, 3, 1, 1, 3, 1, 1, 1], dtype=int64)"
      ]
     },
     "execution_count": 27,
     "metadata": {},
     "output_type": "execute_result"
    }
   ],
   "source": [
    "y_pred_knn = knn.predict(X_test)\n",
    "\n",
    "y_pred_knn"
   ]
  },
  {
   "cell_type": "markdown",
   "id": "f269b264",
   "metadata": {},
   "source": [
    "## Exercici 2"
   ]
  },
  {
   "cell_type": "markdown",
   "id": "8508931c",
   "metadata": {},
   "source": [
    "### Compara els models de classificació utilitzant la precisió (accuracy), una matriu de confusió i d’altres mètriques més avançades."
   ]
  },
  {
   "cell_type": "markdown",
   "id": "3e1909a1",
   "metadata": {},
   "source": [
    "La **accuracy** es una métrica comúnmente utilizada en el aprendizaje automático para evaluar la precisión de un modelo. Se define como la fracción de predicciones correctas sobre el total de predicciones realizadas.\n",
    "\n",
    "En términos simples, la accuracy mide qué porcentaje de las predicciones hechas por el modelo son correctas. Por ejemplo, si un modelo hace 100 predicciones y 90 de ellas son correctas, su accuracy sería de 0,9 o 90%.\n",
    "\n",
    "Es importante tener en cuenta que la accuracy no siempre es la mejor métrica para evaluar la precisión de un modelo, especialmente cuando las clases son desequilibradas o cuando es importante penalizar de manera distinta los errores de distinto tipo. En estos casos, pueden ser más apropiadas otras métricas, como la matriz de confusión, la precisión, el recall o la F1-score."
   ]
  },
  {
   "cell_type": "code",
   "execution_count": 28,
   "id": "cc5817d3",
   "metadata": {},
   "outputs": [],
   "source": [
    "acc_lr = lg.score(X_test, y_test)\n",
    "acc_KNN = knn.score(X_test, y_test)"
   ]
  },
  {
   "cell_type": "code",
   "execution_count": 29,
   "id": "94a5b113",
   "metadata": {},
   "outputs": [
    {
     "data": {
      "text/html": [
       "<div>\n",
       "<style scoped>\n",
       "    .dataframe tbody tr th:only-of-type {\n",
       "        vertical-align: middle;\n",
       "    }\n",
       "\n",
       "    .dataframe tbody tr th {\n",
       "        vertical-align: top;\n",
       "    }\n",
       "\n",
       "    .dataframe thead th {\n",
       "        text-align: right;\n",
       "    }\n",
       "</style>\n",
       "<table border=\"1\" class=\"dataframe\">\n",
       "  <thead>\n",
       "    <tr style=\"text-align: right;\">\n",
       "      <th></th>\n",
       "      <th>Modelo</th>\n",
       "      <th>Accuracy</th>\n",
       "    </tr>\n",
       "  </thead>\n",
       "  <tbody>\n",
       "    <tr>\n",
       "      <th>0</th>\n",
       "      <td>Logistic Regression</td>\n",
       "      <td>0.916667</td>\n",
       "    </tr>\n",
       "    <tr>\n",
       "      <th>1</th>\n",
       "      <td>KNN</td>\n",
       "      <td>0.916667</td>\n",
       "    </tr>\n",
       "  </tbody>\n",
       "</table>\n",
       "</div>"
      ],
      "text/plain": [
       "                Modelo  Accuracy\n",
       "0  Logistic Regression  0.916667\n",
       "1                  KNN  0.916667"
      ]
     },
     "execution_count": 29,
     "metadata": {},
     "output_type": "execute_result"
    }
   ],
   "source": [
    "metricas = pd.DataFrame( data = [['Logistic Regression', acc_lr],\n",
    "                                ['KNN', acc_KNN]],\n",
    "                                 columns = ['Modelo', 'Accuracy'])\n",
    "metricas.head()"
   ]
  },
  {
   "cell_type": "markdown",
   "id": "14557b16",
   "metadata": {},
   "source": [
    "Podemos concluir que los valores de ambos son favorables"
   ]
  },
  {
   "cell_type": "markdown",
   "id": "1c8f6115",
   "metadata": {},
   "source": [
    "### Matriz de confusión para Logistic Regression"
   ]
  },
  {
   "attachments": {
    "MATRIZ-CONFUSION.png": {
     "image/png": "[encoded data removed]"
    }
   },
   "cell_type": "markdown",
   "id": "465447a0",
   "metadata": {},
   "source": [
    "La matriz de confusión es una herramienta comúnmente utilizada en el aprendizaje automático para evaluar el desempeño de un modelo de clasificación. La matriz de confusión representa la cantidad de veces que el modelo hizo una predicción correcta o incorrecta para cada clase.\n",
    "\n",
    "La matriz de confusión es una tabla 2x2 que contiene los siguientes cuatro elementos:\n",
    "\n",
    "Verdaderos Positivos (VP): El número de muestras que el modelo clasificó correctamente como positivas.\n",
    "\n",
    "Falsos Positivos (FP): El número de muestras que el modelo clasificó como positivas, pero que en realidad eran negativas.\n",
    "\n",
    "Verdaderos Negativos (VN): El número de muestras que el modelo clasificó correctamente como negativas.\n",
    "\n",
    "Falsos Negativos (FN): El número de muestras que el modelo clasificó como negativas, pero que en realidad eran positivas.\n",
    "\n",
    "![MATRIZ-CONFUSION.png](attachment:MATRIZ-CONFUSION.png)"
   ]
  },
  {
   "cell_type": "code",
   "execution_count": 30,
   "id": "6eeae682",
   "metadata": {},
   "outputs": [
    {
     "name": "stdout",
     "output_type": "stream",
     "text": [
      "Matriz de Confusión:\n",
      "[[14  0  0]\n",
      " [ 1 13  2]\n",
      " [ 0  0  6]]\n"
     ]
    }
   ],
   "source": [
    "from sklearn.metrics import confusion_matrix\n",
    "\n",
    "mc_lg= confusion_matrix(y_test, y_pred_lg)\n",
    "print(\"Matriz de Confusión:\")\n",
    "print(mc_lg)"
   ]
  },
  {
   "cell_type": "markdown",
   "id": "2a833fb8",
   "metadata": {},
   "source": [
    "Cada fila representa una clase real y cada columna representa una clase predicha por el modelo.\n",
    "\n",
    "La diagonal principal de la matriz contiene los valores verdaderos positivos (VP) o, en otras palabras, los casos en los que el modelo hizo una predicción correcta. Los valores fuera de la diagonal representan los casos en los que el modelo hizo una predicción incorrecta: los falsos positivos (FP) y los falsos negativos (FN).\n",
    "\n",
    "Podemos decir que el modelo predijo correctamente 14 casos para la primera clase.\n",
    "Para la segunda clase, el modelo predijo correctamente 13 casos, pero cometió 2 falsos positivos.\n",
    "Para la tercera clase, el modelo hizo 6 predicciones correctas y 0 falsos positivos o falsos negativos.\n",
    "\n",
    "Tiene un buen desempeño en general, especialmente para la primera y tercera clase, pero tiene dificultades para predecir la segunda clase. Para obtener una evaluación más completa del desempeño del modelo, se pueden calcular otras métricas como la precisión, el recall, la F1-score y el AUC-ROC."
   ]
  },
  {
   "cell_type": "markdown",
   "id": "d946abeb",
   "metadata": {},
   "source": [
    "### Matriz de confusión de modelo KNN"
   ]
  },
  {
   "cell_type": "code",
   "execution_count": 31,
   "id": "b59ad117",
   "metadata": {},
   "outputs": [
    {
     "name": "stdout",
     "output_type": "stream",
     "text": [
      "Matriz de Confusión:\n",
      "[[14  0  0]\n",
      " [ 2 13  1]\n",
      " [ 0  0  6]]\n"
     ]
    }
   ],
   "source": [
    "mc_knn = confusion_matrix(y_test, y_pred_knn)\n",
    "\n",
    "print(\"Matriz de Confusión:\")\n",
    "print(mc_knn)"
   ]
  },
  {
   "cell_type": "markdown",
   "id": "bf5bfb06",
   "metadata": {},
   "source": [
    "En este caso, podemos ver que el modelo ha clasificado correctamente 14 observaciones de la clase 0, 13 observaciones de la clase 1 y 6 observaciones de la clase 2. Sin embargo, también se han clasificado incorrectamente 2 observaciones de la clase 1 como la clase 0 y 1 observación de la clase 2 como la clase 1."
   ]
  },
  {
   "cell_type": "markdown",
   "id": "a1d1b50b",
   "metadata": {},
   "source": [
    "### F1 SCORE\n"
   ]
  },
  {
   "cell_type": "markdown",
   "id": "b7101b00",
   "metadata": {},
   "source": [
    "El f1-score es una métrica de rendimiento comúnmente utilizada para evaluar modelos de clasificación. Es una combinación de dos métricas, la precisión y el recall, y mide la armonía entre ambas.\n",
    "\n",
    "La precisión mide cuán correctamente el modelo está clasificando las observaciones en cada clase. Por otro lado, el recall mide cuántas observaciones reales de una clase determinada el modelo ha identificado correctamente.\n",
    "\n",
    "En otras palabras, un buen f1-score significa que tanto la precisión como el recall son altos. Por lo tanto, el f1-score es una métrica útil para evaluar modelos de clasificación cuando existe un desequilibrio en el tamaño de las clases o cuando es importante equilibrar la precisión y el recall.\n",
    "\n"
   ]
  },
  {
   "cell_type": "code",
   "execution_count": 32,
   "id": "a413f1ee",
   "metadata": {},
   "outputs": [],
   "source": [
    "from sklearn.metrics import f1_score\n",
    "\n",
    "f1_knn = f1_score(y_test, y_pred_knn, average='weighted')\n",
    "f1_lg = f1_score(y_test, y_pred_lg, average='weighted')"
   ]
  },
  {
   "cell_type": "markdown",
   "id": "6f44bfc2",
   "metadata": {},
   "source": [
    "El argumento **average='weighted'** indica que se desea calcular un promedio ponderado, es decir, se pondera cada f1-score por el tamaño de su clase correspondiente. De esta manera, se tiene en cuenta el desequilibrio en el tamaño de las clases y se puede tener una visión más justa del rendimiento del modelo.\n",
    "\n",
    "Si en cambio se especifica **average='macro'**, se calcularía el promedio simple de los f1-scores de cada clase, sin tener en cuenta el tamaño de las clases. Esta opción puede ser adecuada en casos en los que todas las clases tienen un tamaño similar o en los que no es importante tener en cuenta el desequilibrio en el tamaño de las clases."
   ]
  },
  {
   "cell_type": "code",
   "execution_count": 60,
   "id": "6ddf8585",
   "metadata": {},
   "outputs": [
    {
     "data": {
      "text/html": [
       "<div>\n",
       "<style scoped>\n",
       "    .dataframe tbody tr th:only-of-type {\n",
       "        vertical-align: middle;\n",
       "    }\n",
       "\n",
       "    .dataframe tbody tr th {\n",
       "        vertical-align: top;\n",
       "    }\n",
       "\n",
       "    .dataframe thead th {\n",
       "        text-align: right;\n",
       "    }\n",
       "</style>\n",
       "<table border=\"1\" class=\"dataframe\">\n",
       "  <thead>\n",
       "    <tr style=\"text-align: right;\">\n",
       "      <th></th>\n",
       "      <th>Modelo</th>\n",
       "      <th>Accuracy</th>\n",
       "      <th>F1</th>\n",
       "    </tr>\n",
       "  </thead>\n",
       "  <tbody>\n",
       "    <tr>\n",
       "      <th>0</th>\n",
       "      <td>Logistic Regression</td>\n",
       "      <td>0.916667</td>\n",
       "      <td>0.916804</td>\n",
       "    </tr>\n",
       "    <tr>\n",
       "      <th>1</th>\n",
       "      <td>KNN</td>\n",
       "      <td>0.916667</td>\n",
       "      <td>0.915277</td>\n",
       "    </tr>\n",
       "  </tbody>\n",
       "</table>\n",
       "</div>"
      ],
      "text/plain": [
       "                Modelo  Accuracy        F1\n",
       "0  Logistic Regression  0.916667  0.916804\n",
       "1                  KNN  0.916667  0.915277"
      ]
     },
     "execution_count": 60,
     "metadata": {},
     "output_type": "execute_result"
    }
   ],
   "source": [
    "metricas_f1 = pd.DataFrame( data = [['Logistic Regression', acc_lr, f1_lg],\n",
    "                                ['KNN', acc_KNN, f1_knn]],\n",
    "                       columns = ['Modelo', 'Accuracy', 'F1'])\n",
    "metricas_f1"
   ]
  },
  {
   "cell_type": "markdown",
   "id": "3fd90089",
   "metadata": {},
   "source": [
    "## Exercici 3"
   ]
  },
  {
   "cell_type": "markdown",
   "id": "b5326984",
   "metadata": {},
   "source": [
    "### Entrena’ls usant els diferents paràmetres que admeten per tal de millorar-ne la predicció."
   ]
  },
  {
   "cell_type": "markdown",
   "id": "07031519",
   "metadata": {},
   "source": [
    "#### Mejora parámetros Logistic Regresion"
   ]
  },
  {
   "cell_type": "code",
   "execution_count": 67,
   "id": "f83c299d",
   "metadata": {},
   "outputs": [
    {
     "data": {
      "text/html": [
       "<div>\n",
       "<style scoped>\n",
       "    .dataframe tbody tr th:only-of-type {\n",
       "        vertical-align: middle;\n",
       "    }\n",
       "\n",
       "    .dataframe tbody tr th {\n",
       "        vertical-align: top;\n",
       "    }\n",
       "\n",
       "    .dataframe thead th {\n",
       "        text-align: right;\n",
       "    }\n",
       "</style>\n",
       "<table border=\"1\" class=\"dataframe\">\n",
       "  <thead>\n",
       "    <tr style=\"text-align: right;\">\n",
       "      <th></th>\n",
       "      <th>Types of wine</th>\n",
       "    </tr>\n",
       "  </thead>\n",
       "  <tbody>\n",
       "    <tr>\n",
       "      <th>161</th>\n",
       "      <td>3</td>\n",
       "    </tr>\n",
       "    <tr>\n",
       "      <th>92</th>\n",
       "      <td>2</td>\n",
       "    </tr>\n",
       "    <tr>\n",
       "      <th>94</th>\n",
       "      <td>2</td>\n",
       "    </tr>\n",
       "    <tr>\n",
       "      <th>174</th>\n",
       "      <td>3</td>\n",
       "    </tr>\n",
       "    <tr>\n",
       "      <th>24</th>\n",
       "      <td>1</td>\n",
       "    </tr>\n",
       "    <tr>\n",
       "      <th>...</th>\n",
       "      <td>...</td>\n",
       "    </tr>\n",
       "    <tr>\n",
       "      <th>103</th>\n",
       "      <td>2</td>\n",
       "    </tr>\n",
       "    <tr>\n",
       "      <th>67</th>\n",
       "      <td>2</td>\n",
       "    </tr>\n",
       "    <tr>\n",
       "      <th>117</th>\n",
       "      <td>2</td>\n",
       "    </tr>\n",
       "    <tr>\n",
       "      <th>47</th>\n",
       "      <td>1</td>\n",
       "    </tr>\n",
       "    <tr>\n",
       "      <th>172</th>\n",
       "      <td>3</td>\n",
       "    </tr>\n",
       "  </tbody>\n",
       "</table>\n",
       "<p>142 rows × 1 columns</p>\n",
       "</div>"
      ],
      "text/plain": [
       "     Types of wine\n",
       "161              3\n",
       "92               2\n",
       "94               2\n",
       "174              3\n",
       "24               1\n",
       "..             ...\n",
       "103              2\n",
       "67               2\n",
       "117              2\n",
       "47               1\n",
       "172              3\n",
       "\n",
       "[142 rows x 1 columns]"
      ]
     },
     "execution_count": 67,
     "metadata": {},
     "output_type": "execute_result"
    }
   ],
   "source": [
    "y_train"
   ]
  },
  {
   "cell_type": "code",
   "execution_count": 72,
   "id": "b8b3e7fd",
   "metadata": {},
   "outputs": [
    {
     "data": {
      "text/plain": [
       "array([1, 3, 2, 1, 2, 3, 1, 3, 2, 2, 3, 3, 1, 2, 3, 2, 1, 1, 3, 1, 2, 1,\n",
       "       1, 2, 2, 2, 2, 2, 1, 3, 1, 1, 2, 1, 1, 1], dtype=int64)"
      ]
     },
     "execution_count": 72,
     "metadata": {},
     "output_type": "execute_result"
    }
   ],
   "source": [
    "from sklearn.model_selection import GridSearchCV\n",
    "from sklearn.linear_model import LogisticRegression\n",
    "\n",
    "lg_bp = LogisticRegression(random_state=42)\n",
    "lg_bp.fit(X_train,y_train.values.ravel())\n",
    "y_pred_lg_bp = lg_bp.predict(X_test) \n",
    "\n",
    "y_pred_lg_bp"
   ]
  },
  {
   "cell_type": "code",
   "execution_count": 38,
   "id": "0363fbd0",
   "metadata": {},
   "outputs": [
    {
     "data": {
      "text/plain": [
       "dict_keys(['C', 'class_weight', 'dual', 'fit_intercept', 'intercept_scaling', 'l1_ratio', 'max_iter', 'multi_class', 'n_jobs', 'penalty', 'random_state', 'solver', 'tol', 'verbose', 'warm_start'])"
      ]
     },
     "execution_count": 38,
     "metadata": {},
     "output_type": "execute_result"
    }
   ],
   "source": [
    "lg_bp.get_params().keys()"
   ]
  },
  {
   "cell_type": "code",
   "execution_count": 39,
   "id": "3130311b",
   "metadata": {},
   "outputs": [
    {
     "name": "stdout",
     "output_type": "stream",
     "text": [
      "Parámetros:\n",
      "{'C': 1.0,\n",
      " 'class_weight': None,\n",
      " 'dual': False,\n",
      " 'fit_intercept': True,\n",
      " 'intercept_scaling': 1,\n",
      " 'l1_ratio': None,\n",
      " 'max_iter': 100,\n",
      " 'multi_class': 'auto',\n",
      " 'n_jobs': None,\n",
      " 'penalty': 'l2',\n",
      " 'random_state': 42,\n",
      " 'solver': 'lbfgs',\n",
      " 'tol': 0.0001,\n",
      " 'verbose': 0,\n",
      " 'warm_start': False}\n"
     ]
    }
   ],
   "source": [
    "from pprint import pprint\n",
    "print('Parámetros:')\n",
    "pprint(lg_bp.get_params())"
   ]
  },
  {
   "cell_type": "code",
   "execution_count": 70,
   "id": "20b13667",
   "metadata": {},
   "outputs": [],
   "source": [
    "from sklearn.model_selection import GridSearchCV\n",
    "\n",
    "param_grid = dict()\n",
    "param_grid['solver'] = ['newton-cg', 'lbfgs', 'liblinear','saga']\n",
    "param_grid['penalty'] = [\"l1\", \"l2\", \"elasticnet\"]"
   ]
  },
  {
   "cell_type": "code",
   "execution_count": 85,
   "id": "9c166026",
   "metadata": {},
   "outputs": [
    {
     "data": {
      "text/html": [
       "<style>#sk-container-id-13 {color: black;background-color: white;}#sk-container-id-13 pre{padding: 0;}#sk-container-id-13 div.sk-toggleable {background-color: white;}#sk-container-id-13 label.sk-toggleable__label {cursor: pointer;display: block;width: 100%;margin-bottom: 0;padding: 0.3em;box-sizing: border-box;text-align: center;}#sk-container-id-13 label.sk-toggleable__label-arrow:before {content: \"▸\";float: left;margin-right: 0.25em;color: #696969;}#sk-container-id-13 label.sk-toggleable__label-arrow:hover:before {color: black;}#sk-container-id-13 div.sk-estimator:hover label.sk-toggleable__label-arrow:before {color: black;}#sk-container-id-13 div.sk-toggleable__content {max-height: 0;max-width: 0;overflow: hidden;text-align: left;background-color: #f0f8ff;}#sk-container-id-13 div.sk-toggleable__content pre {margin: 0.2em;color: black;border-radius: 0.25em;background-color: #f0f8ff;}#sk-container-id-13 input.sk-toggleable__control:checked~div.sk-toggleable__content {max-height: 200px;max-width: 100%;overflow: auto;}#sk-container-id-13 input.sk-toggleable__control:checked~label.sk-toggleable__label-arrow:before {content: \"▾\";}#sk-container-id-13 div.sk-estimator input.sk-toggleable__control:checked~label.sk-toggleable__label {background-color: #d4ebff;}#sk-container-id-13 div.sk-label input.sk-toggleable__control:checked~label.sk-toggleable__label {background-color: #d4ebff;}#sk-container-id-13 input.sk-hidden--visually {border: 0;clip: rect(1px 1px 1px 1px);clip: rect(1px, 1px, 1px, 1px);height: 1px;margin: -1px;overflow: hidden;padding: 0;position: absolute;width: 1px;}#sk-container-id-13 div.sk-estimator {font-family: monospace;background-color: #f0f8ff;border: 1px dotted black;border-radius: 0.25em;box-sizing: border-box;margin-bottom: 0.5em;}#sk-container-id-13 div.sk-estimator:hover {background-color: #d4ebff;}#sk-container-id-13 div.sk-parallel-item::after {content: \"\";width: 100%;border-bottom: 1px solid gray;flex-grow: 1;}#sk-container-id-13 div.sk-label:hover label.sk-toggleable__label {background-color: #d4ebff;}#sk-container-id-13 div.sk-serial::before {content: \"\";position: absolute;border-left: 1px solid gray;box-sizing: border-box;top: 0;bottom: 0;left: 50%;z-index: 0;}#sk-container-id-13 div.sk-serial {display: flex;flex-direction: column;align-items: center;background-color: white;padding-right: 0.2em;padding-left: 0.2em;position: relative;}#sk-container-id-13 div.sk-item {position: relative;z-index: 1;}#sk-container-id-13 div.sk-parallel {display: flex;align-items: stretch;justify-content: center;background-color: white;position: relative;}#sk-container-id-13 div.sk-item::before, #sk-container-id-13 div.sk-parallel-item::before {content: \"\";position: absolute;border-left: 1px solid gray;box-sizing: border-box;top: 0;bottom: 0;left: 50%;z-index: -1;}#sk-container-id-13 div.sk-parallel-item {display: flex;flex-direction: column;z-index: 1;position: relative;background-color: white;}#sk-container-id-13 div.sk-parallel-item:first-child::after {align-self: flex-end;width: 50%;}#sk-container-id-13 div.sk-parallel-item:last-child::after {align-self: flex-start;width: 50%;}#sk-container-id-13 div.sk-parallel-item:only-child::after {width: 0;}#sk-container-id-13 div.sk-dashed-wrapped {border: 1px dashed gray;margin: 0 0.4em 0.5em 0.4em;box-sizing: border-box;padding-bottom: 0.4em;background-color: white;}#sk-container-id-13 div.sk-label label {font-family: monospace;font-weight: bold;display: inline-block;line-height: 1.2em;}#sk-container-id-13 div.sk-label-container {text-align: center;}#sk-container-id-13 div.sk-container {/* jupyter's `normalize.less` sets `[hidden] { display: none; }` but bootstrap.min.css set `[hidden] { display: none !important; }` so we also need the `!important` here to be able to override the default hidden behavior on the sphinx rendered scikit-learn.org. See: https://github.com/scikit-learn/scikit-learn/issues/21755 */display: inline-block !important;position: relative;}#sk-container-id-13 div.sk-text-repr-fallback {display: none;}</style><div id=\"sk-container-id-13\" class=\"sk-top-container\"><div class=\"sk-text-repr-fallback\"><pre>GridSearchCV(estimator=LogisticRegression(random_state=42),\n",
       "             param_grid={&#x27;penalty&#x27;: [&#x27;l1&#x27;, &#x27;l2&#x27;, &#x27;elasticnet&#x27;],\n",
       "                         &#x27;solver&#x27;: [&#x27;newton-cg&#x27;, &#x27;lbfgs&#x27;, &#x27;liblinear&#x27;, &#x27;saga&#x27;]},\n",
       "             scoring=&#x27;f1_macro&#x27;)</pre><b>In a Jupyter environment, please rerun this cell to show the HTML representation or trust the notebook. <br />On GitHub, the HTML representation is unable to render, please try loading this page with nbviewer.org.</b></div><div class=\"sk-container\" hidden><div class=\"sk-item sk-dashed-wrapped\"><div class=\"sk-label-container\"><div class=\"sk-label sk-toggleable\"><input class=\"sk-toggleable__control sk-hidden--visually\" id=\"sk-estimator-id-33\" type=\"checkbox\" ><label for=\"sk-estimator-id-33\" class=\"sk-toggleable__label sk-toggleable__label-arrow\">GridSearchCV</label><div class=\"sk-toggleable__content\"><pre>GridSearchCV(estimator=LogisticRegression(random_state=42),\n",
       "             param_grid={&#x27;penalty&#x27;: [&#x27;l1&#x27;, &#x27;l2&#x27;, &#x27;elasticnet&#x27;],\n",
       "                         &#x27;solver&#x27;: [&#x27;newton-cg&#x27;, &#x27;lbfgs&#x27;, &#x27;liblinear&#x27;, &#x27;saga&#x27;]},\n",
       "             scoring=&#x27;f1_macro&#x27;)</pre></div></div></div><div class=\"sk-parallel\"><div class=\"sk-parallel-item\"><div class=\"sk-item\"><div class=\"sk-label-container\"><div class=\"sk-label sk-toggleable\"><input class=\"sk-toggleable__control sk-hidden--visually\" id=\"sk-estimator-id-34\" type=\"checkbox\" ><label for=\"sk-estimator-id-34\" class=\"sk-toggleable__label sk-toggleable__label-arrow\">estimator: LogisticRegression</label><div class=\"sk-toggleable__content\"><pre>LogisticRegression(random_state=42)</pre></div></div></div><div class=\"sk-serial\"><div class=\"sk-item\"><div class=\"sk-estimator sk-toggleable\"><input class=\"sk-toggleable__control sk-hidden--visually\" id=\"sk-estimator-id-35\" type=\"checkbox\" ><label for=\"sk-estimator-id-35\" class=\"sk-toggleable__label sk-toggleable__label-arrow\">LogisticRegression</label><div class=\"sk-toggleable__content\"><pre>LogisticRegression(random_state=42)</pre></div></div></div></div></div></div></div></div></div></div>"
      ],
      "text/plain": [
       "GridSearchCV(estimator=LogisticRegression(random_state=42),\n",
       "             param_grid={'penalty': ['l1', 'l2', 'elasticnet'],\n",
       "                         'solver': ['newton-cg', 'lbfgs', 'liblinear', 'saga']},\n",
       "             scoring='f1_macro')"
      ]
     },
     "execution_count": 85,
     "metadata": {},
     "output_type": "execute_result"
    }
   ],
   "source": [
    "# Crear un objeto de GridSearchCV\n",
    "import warnings \n",
    "warnings.filterwarnings('ignore')\n",
    "## DECLARAR OTRA VEz\n",
    "search = GridSearchCV(lg_bp, param_grid, scoring = 'f1_macro')\n",
    "\n",
    "## TODO \n",
    "# Entrenar el modelo con GridSearchCV\n",
    "search.fit(X_train, y_train)"
   ]
  },
  {
   "cell_type": "code",
   "execution_count": 84,
   "id": "f7b68083",
   "metadata": {},
   "outputs": [
    {
     "name": "stdout",
     "output_type": "stream",
     "text": [
      "Mejores Hyper-parameters:  {'penalty': 'l1', 'solver': 'liblinear'}\n"
     ]
    }
   ],
   "source": [
    "# Revisar los resultados\n",
    "print(\"Mejores Hyper-parameters: \", search.best_params_)"
   ]
  },
  {
   "cell_type": "markdown",
   "id": "44e4465c",
   "metadata": {},
   "source": [
    "#### Mejora parámetros K-Nearest Neighbors"
   ]
  },
  {
   "cell_type": "code",
   "execution_count": 86,
   "id": "6adbb407",
   "metadata": {},
   "outputs": [],
   "source": [
    "param_grid = {'n_neighbors': [3, 5, 7, 9, 11],\n",
    "              'weights': ['uniform', 'distance'],\n",
    "              'p': [1, 2]}\n",
    "\n",
    "knn = KNeighborsClassifier()\n",
    "\n",
    "search_knn = GridSearchCV(knn, param_grid, scoring = 'f1_macro')\n",
    "search_knn2=search_knn.fit(X_train, y_train)"
   ]
  },
  {
   "cell_type": "code",
   "execution_count": 87,
   "id": "c0464d05",
   "metadata": {},
   "outputs": [
    {
     "data": {
      "text/plain": [
       "{'n_neighbors': 3, 'p': 1, 'weights': 'uniform'}"
      ]
     },
     "execution_count": 87,
     "metadata": {},
     "output_type": "execute_result"
    }
   ],
   "source": [
    "search_knn2.best_params_"
   ]
  },
  {
   "cell_type": "markdown",
   "id": "096de504",
   "metadata": {},
   "source": [
    "## Exercici 4"
   ]
  },
  {
   "cell_type": "markdown",
   "id": "4f096dd6",
   "metadata": {},
   "source": [
    "### Entrena’ls usant els diferents paràmetres que admeten per tal de millorar-ne la predicció."
   ]
  },
  {
   "cell_type": "code",
   "execution_count": 88,
   "id": "78bd9e61",
   "metadata": {},
   "outputs": [
    {
     "name": "stdout",
     "output_type": "stream",
     "text": [
      "Cross Validation Score: 0.94 +/- 0.04\n"
     ]
    }
   ],
   "source": [
    "from sklearn.model_selection import cross_val_score\n",
    "\n",
    "knn_cv = KNeighborsClassifier(n_neighbors=search_knn2.best_params_['n_neighbors'],\n",
    "                           weights=search_knn2.best_params_['weights'],\n",
    "                           p=search_knn2.best_params_['p'])\n",
    "\n",
    "scores = cross_val_score(knn_cv, X, y, cv=5, scoring='f1_macro')\n",
    "\n",
    "print(\"Cross Validation Score: {:.2f} +/- {:.2f}\".format(scores.mean(), scores.std()))"
   ]
  },
  {
   "cell_type": "code",
   "execution_count": 90,
   "id": "3780c349",
   "metadata": {},
   "outputs": [
    {
     "name": "stdout",
     "output_type": "stream",
     "text": [
      "Cross Validation Score: 0.95 +/- 0.04\n"
     ]
    }
   ],
   "source": [
    "logreg = LogisticRegression(solver=search.best_params_['solver'],\n",
    "                            penalty=search.best_params_['penalty'])\n",
    "\n",
    "scores_lg = cross_val_score(logreg, X, y, cv=5, scoring='f1_macro')\n",
    "\n",
    "print(\"Cross Validation Score: {:.2f} +/- {:.2f}\".format(scores_lg.mean(), scores.std()))\n",
    "\n",
    "#usamos una validacion cruzada de 5 aprtes, cv=5"
   ]
  },
  {
   "cell_type": "markdown",
   "id": "ac2f855e",
   "metadata": {},
   "source": [
    "Podemos ver como la validación cruzada nos da con muy buenos valores de entre 0.95 y 0.94 para ambos tipos, pudiendo igualemtne decir que la regresión logística es mejor"
   ]
  },
  {
   "cell_type": "markdown",
   "id": "fe3e920e",
   "metadata": {},
   "source": [
    "## Exercici 5"
   ]
  },
  {
   "cell_type": "markdown",
   "id": "cc1178a0",
   "metadata": {},
   "source": [
    "### Aplica algun procés d'enginyeria per millorar els resultats (normalització, estandardització, mostreig...)"
   ]
  },
  {
   "cell_type": "markdown",
   "id": "81d7a9e9",
   "metadata": {},
   "source": [
    "Ya se ha realizado previamente, antes de comenzar a tratar los datos"
   ]
  }
 ],
 "metadata": {
  "kernelspec": {
   "display_name": "Python 3 (ipykernel)",
   "language": "python",
   "name": "python3"
  },
  "language_info": {
   "codemirror_mode": {
    "name": "ipython",
    "version": 3
   },
   "file_extension": ".py",
   "mimetype": "text/x-python",
   "name": "python",
   "nbconvert_exporter": "python",
   "pygments_lexer": "ipython3",
   "version": "3.10.5"
  }
 },
 "nbformat": 4,
 "nbformat_minor": 5
}
